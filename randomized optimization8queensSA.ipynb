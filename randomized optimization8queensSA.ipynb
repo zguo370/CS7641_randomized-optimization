{
 "cells": [
  {
   "cell_type": "code",
   "execution_count": 1,
   "id": "ea17d1d4",
   "metadata": {},
   "outputs": [],
   "source": [
    "import six\n",
    "import sys\n",
    "sys.modules['sklearn.externals.six'] = six\n",
    "import mlrose\n",
    "\n",
    "import numpy as np\n",
    "\n",
    "from sklearn.datasets import load_iris\n",
    "from sklearn.model_selection import train_test_split\n",
    "from sklearn.preprocessing import MinMaxScaler, OneHotEncoder\n",
    "from sklearn.metrics import accuracy_score"
   ]
  },
  {
   "cell_type": "code",
   "execution_count": 2,
   "id": "ca78c9b6",
   "metadata": {},
   "outputs": [],
   "source": [
    "fitness = mlrose.Queens()"
   ]
  },
  {
   "cell_type": "code",
   "execution_count": 3,
   "id": "cc92a5ea",
   "metadata": {},
   "outputs": [],
   "source": [
    "# Define optimization problem object\n",
    "problem = mlrose.DiscreteOpt(length = 8, fitness_fn = fitness, maximize=False, max_val=8)"
   ]
  },
  {
   "cell_type": "code",
   "execution_count": 4,
   "id": "2b5ec0ca",
   "metadata": {},
   "outputs": [],
   "source": [
    "# Define decay schedule\n",
    "schedule = mlrose.ExpDecay()"
   ]
  },
  {
   "cell_type": "code",
   "execution_count": 5,
   "id": "2f586177",
   "metadata": {},
   "outputs": [],
   "source": [
    "# Solve using simulated annealing - attempt 1         \n",
    "init_state = np.array([0, 1, 2, 3, 4, 5, 6, 7])\n",
    "best_state, best_fitness = mlrose.simulated_annealing(problem, schedule = schedule, max_attempts = 10, \n",
    "                                                      max_iters = 1000, init_state = init_state,\n",
    "                                                      random_state = 1)"
   ]
  },
  {
   "cell_type": "code",
   "execution_count": 6,
   "id": "a2dd5371",
   "metadata": {},
   "outputs": [
    {
     "name": "stdout",
     "output_type": "stream",
     "text": [
      "The best state found is:  [6 4 7 3 6 2 5 1]\n"
     ]
    }
   ],
   "source": [
    "print('The best state found is: ', best_state)"
   ]
  },
  {
   "cell_type": "code",
   "execution_count": 7,
   "id": "f66f1791",
   "metadata": {},
   "outputs": [
    {
     "name": "stdout",
     "output_type": "stream",
     "text": [
      "The fitness at the best state is:  2.0\n"
     ]
    }
   ],
   "source": [
    "print('The fitness at the best state is: ', best_fitness)"
   ]
  },
  {
   "cell_type": "code",
   "execution_count": 8,
   "id": "571d2b65",
   "metadata": {},
   "outputs": [],
   "source": [
    "# Solve using simulated annealing - attempt 2\n",
    "best_state, best_fitness = mlrose.simulated_annealing(problem, schedule = schedule, max_attempts = 100, \n",
    "                                                      max_iters = 1000, init_state = init_state,\n",
    "                                                      random_state = 1)"
   ]
  },
  {
   "cell_type": "code",
   "execution_count": 9,
   "id": "680b0e52",
   "metadata": {},
   "outputs": [
    {
     "name": "stdout",
     "output_type": "stream",
     "text": [
      "[4 1 3 5 7 2 0 6]\n"
     ]
    }
   ],
   "source": [
    "print(best_state)"
   ]
  },
  {
   "cell_type": "code",
   "execution_count": 10,
   "id": "70167e11",
   "metadata": {},
   "outputs": [
    {
     "name": "stdout",
     "output_type": "stream",
     "text": [
      "0.0\n"
     ]
    }
   ],
   "source": [
    "print(best_fitness)"
   ]
  },
  {
   "cell_type": "code",
   "execution_count": 11,
   "id": "59678866",
   "metadata": {},
   "outputs": [],
   "source": [
    "import matplotlib.pyplot as plt"
   ]
  },
  {
   "cell_type": "code",
   "execution_count": 12,
   "id": "08cca1de",
   "metadata": {},
   "outputs": [],
   "source": [
    "batch_size=[16,32,64,128,512,1024]\n",
    "accuracy=[96.12,97.38,97.41,95.02,96.22,97.01]"
   ]
  },
  {
   "cell_type": "code",
   "execution_count": 13,
   "id": "8a171684",
   "metadata": {},
   "outputs": [
    {
     "data": {
      "image/png": "[encoded data removed]",
      "text/plain": [
       "<Figure size 432x288 with 1 Axes>"
      ]
     },
     "metadata": {
      "needs_background": "light"
     },
     "output_type": "display_data"
    }
   ],
   "source": [
    "plt.plot(batch_size,accuracy,'b-o',label='Accuracy over batch size for 1000 iterations');\n",
    "plt.xlabel('Batch Size')\n",
    "plt.ylabel('Accuracy')\n",
    "plt.legend()\n",
    "plt.show()"
   ]
  },
  {
   "cell_type": "code",
   "execution_count": 14,
   "id": "0631c8e3",
   "metadata": {},
   "outputs": [],
   "source": [
    "fitness_curve = mlrose.simulated_annealing(problem, schedule = schedule, max_attempts = 100, \n",
    "                                                      max_iters = 1000, init_state = init_state, curve=True, \n",
    "                                                      random_state = 1)"
   ]
  },
  {
   "cell_type": "code",
   "execution_count": 15,
   "id": "2b33ffc5",
   "metadata": {},
   "outputs": [],
   "source": [
    "curve = mlrose.simulated_annealing(problem, schedule = schedule, max_attempts = 100, \n",
    "                                                      max_iters = 1000, init_state = init_state, curve=True, \n",
    "                                                      random_state = 1)"
   ]
  },
  {
   "cell_type": "code",
   "execution_count": 16,
   "id": "50ceb7a5",
   "metadata": {},
   "outputs": [
    {
     "name": "stdout",
     "output_type": "stream",
     "text": [
      "(array([4, 1, 3, 5, 7, 2, 0, 6]), 0.0, array([-23., -18., -15., -11., -11., -10.,  -9.,  -8.,  -8.,  -8.,  -8.,\n",
      "        -7.,  -6.,  -5.,  -5.,  -5.,  -5.,  -5.,  -4.,  -4.,  -4.,  -4.,\n",
      "        -4.,  -7.,  -7.,  -5.,  -5.,  -5.,  -5.,  -5.,  -4.,  -4.,  -4.,\n",
      "        -4.,  -4.,  -3.,  -3.,  -3.,  -3.,  -3.,  -3.,  -4.,  -4.,  -4.,\n",
      "        -3.,  -3.,  -3.,  -3.,  -3.,  -3.,  -1.,  -2.,  -2.,  -2.,  -2.,\n",
      "        -4.,  -3.,  -3.,  -3.,  -3.,  -2.,  -2.,  -2.,  -3.,  -3.,  -3.,\n",
      "        -3.,  -3.,  -3.,  -3.,  -3.,  -4.,  -3.,  -3.,  -3.,  -3.,  -3.,\n",
      "        -3.,  -3.,  -3.,  -3.,  -3.,  -3.,  -3.,  -3.,  -3.,  -3.,  -3.,\n",
      "        -3.,  -3.,  -3.,  -3.,  -3.,  -3.,  -3.,  -3.,  -3.,  -4.,  -4.,\n",
      "        -4.,  -4.,  -4.,  -4.,  -4.,  -3.,  -4.,  -4.,  -4.,  -5.,  -5.,\n",
      "        -3.,  -3.,  -3.,  -4.,  -4.,  -3.,  -3.,  -4.,  -4.,  -4.,  -4.,\n",
      "        -4.,  -4.,  -3.,  -3.,  -2.,  -2.,  -2.,  -2.,  -2.,  -2.,  -2.,\n",
      "        -2.,  -2.,  -2.,  -2.,  -2.,  -1.,  -1.,  -1.,  -1.,  -1.,  -1.,\n",
      "        -1.,  -1.,  -1.,  -1.,  -1.,  -1.,  -1.,  -1.,  -1.,  -1.,  -1.,\n",
      "        -1.,  -1.,  -0.,  -0.,  -0.,  -0.,  -0.,  -0.,  -0.,  -0.,  -0.,\n",
      "        -0.,  -0.,  -2.,  -2.,  -2.,  -2.,  -2.,  -2.,  -2.,  -2.,  -3.,\n",
      "        -3.,  -3.,  -3.,  -2.,  -2.,  -2.,  -2.,  -2.,  -2.,  -2.,  -2.,\n",
      "        -2.,  -2.,  -2.,  -2.,  -2.,  -2.,  -2.,  -2.,  -2.,  -2.,  -2.,\n",
      "        -2.,  -2.,  -2.,  -2.,  -2.,  -2.,  -2.,  -2.,  -2.,  -2.,  -2.,\n",
      "        -1.,  -1.,  -1.,  -1.,  -1.,  -1.,  -1.,  -1.,  -1.,  -2.,  -2.,\n",
      "        -2.,  -2.,  -2.,  -2.,  -2.,  -2.,  -2.,  -2.,  -2.,  -2.,  -2.,\n",
      "        -2.,  -2.,  -2.,  -2.,  -2.,  -2.,  -2.,  -2.,  -2.,  -2.,  -2.,\n",
      "        -2.,  -2.,  -2.,  -2.,  -2.,  -2.,  -2.,  -2.,  -2.,  -2.,  -2.,\n",
      "        -2.,  -2.,  -2.,  -2.,  -2.,  -2.,  -2.,  -2.,  -2.,  -2.,  -2.,\n",
      "        -2.,  -2.,  -2.,  -2.,  -2.,  -2.,  -2.,  -2.,  -2.,  -2.,  -2.,\n",
      "        -2.,  -2.,  -2.,  -2.,  -2.,  -2.,  -2.,  -2.,  -2.,  -2.,  -2.,\n",
      "        -2.,  -2.,  -2.,  -2.,  -2.,  -3.,  -3.,  -3.,  -3.,  -3.,  -3.,\n",
      "        -3.,  -3.,  -3.,  -3.,  -3.,  -3.,  -3.,  -3.,  -3.,  -3.,  -2.,\n",
      "        -2.,  -2.,  -2.,  -2.,  -2.,  -2.,  -2.,  -2.,  -2.,  -2.,  -2.,\n",
      "        -2.,  -2.,  -2.,  -2.,  -2.,  -2.,  -2.,  -2.,  -2.,  -2.,  -2.,\n",
      "        -2.,  -2.,  -2.,  -2.,  -2.,  -2.,  -2.,  -2.,  -2.,  -2.,  -2.,\n",
      "        -2.,  -2.,  -2.,  -2.,  -2.,  -2.,  -2.,  -2.,  -2.,  -2.,  -2.,\n",
      "        -2.,  -2.,  -2.,  -2.,  -2.,  -2.,  -2.,  -2.,  -2.,  -2.,  -2.,\n",
      "        -2.,  -2.,  -2.,  -2.,  -2.,  -2.,  -2.,  -2.,  -2.,  -2.,  -2.,\n",
      "        -2.,  -2.,  -2.,  -2.,  -2.,  -2.,  -2.,  -2.,  -2.,  -2.,  -2.,\n",
      "        -2.,  -2.,  -2.,  -2.,  -2.,  -2.,  -2.,  -2.,  -2.,  -2.,  -2.,\n",
      "        -2.,  -2.,  -2.,  -2.,  -2.,  -2.,  -2.,  -2.,  -2.,  -2.,  -2.,\n",
      "        -2.,  -2.,  -2.,  -2.,  -2.,  -2.,  -2.,  -2.,  -2.,  -2.,  -2.,\n",
      "        -2.,  -2.,  -2.,  -2.,  -2.,  -2.,  -2.,  -2.,  -2.,  -2.,  -2.,\n",
      "        -2.,  -2.,  -2.,  -2.,  -2.,  -2.,  -2.,  -2.,  -2.,  -2.,  -2.,\n",
      "        -2.,  -2.,  -2.,  -2.,  -2.,  -2.,  -2.,  -2.,  -2.,  -2.,  -2.,\n",
      "        -2.,  -2.,  -2.,  -2.,  -2.,  -2.,  -2.,  -2.,  -2.,  -2.,  -2.,\n",
      "        -2.,  -2.,  -2.,  -1.,  -1.,  -1.,  -1.,  -1.,  -1.,  -1.,  -1.,\n",
      "        -1.,  -1.,  -1.,  -1.,  -1.,  -1.,  -1.,  -1.,  -1.,  -1.,  -1.,\n",
      "        -0.,  -0.,  -0.,  -0.,  -0.,  -0.,  -0.,  -0.,  -0.,  -0.,  -0.,\n",
      "        -0.,  -0.,  -0.,  -0.,  -0.,  -0.,  -0.,  -0.,  -0.,  -0.,  -0.,\n",
      "        -0.,  -0.,  -0.,  -0.,  -0.,  -0.,  -0.,  -0.,  -0.,  -0.,  -0.,\n",
      "        -0.,  -0.,  -0.,  -0.,  -0.,  -0.,  -0.,  -0.,  -0.,  -0.,  -0.,\n",
      "        -0.,  -0.,  -0.,  -0.,  -0.,  -0.,  -0.,  -0.,  -0.,  -0.,  -0.,\n",
      "        -0.,  -0.,  -0.,  -0.,  -0.,  -0.,  -0.,  -0.,  -0.,  -0.,  -0.,\n",
      "        -0.,  -0.,  -0.,  -0.,  -0.,  -0.,  -0.,  -0.,  -0.,  -0.,  -0.,\n",
      "        -0.,  -0.,  -0.,  -0.,  -0.,  -0.,  -0.,  -0.,  -0.,  -0.,  -0.,\n",
      "        -0.,  -0.,  -0.,  -0.,  -0.,  -0.,  -0.,  -0.,  -0.,  -0.,  -0.,\n",
      "        -0.,  -0.]))\n"
     ]
    }
   ],
   "source": [
    "print(fitness_curve)"
   ]
  },
  {
   "cell_type": "code",
   "execution_count": 17,
   "id": "aee8a6fd",
   "metadata": {},
   "outputs": [
    {
     "name": "stdout",
     "output_type": "stream",
     "text": [
      "(array([4, 1, 3, 5, 7, 2, 0, 6]), 0.0, array([-23., -18., -15., -11., -11., -10.,  -9.,  -8.,  -8.,  -8.,  -8.,\n",
      "        -7.,  -6.,  -5.,  -5.,  -5.,  -5.,  -5.,  -4.,  -4.,  -4.,  -4.,\n",
      "        -4.,  -7.,  -7.,  -5.,  -5.,  -5.,  -5.,  -5.,  -4.,  -4.,  -4.,\n",
      "        -4.,  -4.,  -3.,  -3.,  -3.,  -3.,  -3.,  -3.,  -4.,  -4.,  -4.,\n",
      "        -3.,  -3.,  -3.,  -3.,  -3.,  -3.,  -1.,  -2.,  -2.,  -2.,  -2.,\n",
      "        -4.,  -3.,  -3.,  -3.,  -3.,  -2.,  -2.,  -2.,  -3.,  -3.,  -3.,\n",
      "        -3.,  -3.,  -3.,  -3.,  -3.,  -4.,  -3.,  -3.,  -3.,  -3.,  -3.,\n",
      "        -3.,  -3.,  -3.,  -3.,  -3.,  -3.,  -3.,  -3.,  -3.,  -3.,  -3.,\n",
      "        -3.,  -3.,  -3.,  -3.,  -3.,  -3.,  -3.,  -3.,  -3.,  -4.,  -4.,\n",
      "        -4.,  -4.,  -4.,  -4.,  -4.,  -3.,  -4.,  -4.,  -4.,  -5.,  -5.,\n",
      "        -3.,  -3.,  -3.,  -4.,  -4.,  -3.,  -3.,  -4.,  -4.,  -4.,  -4.,\n",
      "        -4.,  -4.,  -3.,  -3.,  -2.,  -2.,  -2.,  -2.,  -2.,  -2.,  -2.,\n",
      "        -2.,  -2.,  -2.,  -2.,  -2.,  -1.,  -1.,  -1.,  -1.,  -1.,  -1.,\n",
      "        -1.,  -1.,  -1.,  -1.,  -1.,  -1.,  -1.,  -1.,  -1.,  -1.,  -1.,\n",
      "        -1.,  -1.,  -0.,  -0.,  -0.,  -0.,  -0.,  -0.,  -0.,  -0.,  -0.,\n",
      "        -0.,  -0.,  -2.,  -2.,  -2.,  -2.,  -2.,  -2.,  -2.,  -2.,  -3.,\n",
      "        -3.,  -3.,  -3.,  -2.,  -2.,  -2.,  -2.,  -2.,  -2.,  -2.,  -2.,\n",
      "        -2.,  -2.,  -2.,  -2.,  -2.,  -2.,  -2.,  -2.,  -2.,  -2.,  -2.,\n",
      "        -2.,  -2.,  -2.,  -2.,  -2.,  -2.,  -2.,  -2.,  -2.,  -2.,  -2.,\n",
      "        -1.,  -1.,  -1.,  -1.,  -1.,  -1.,  -1.,  -1.,  -1.,  -2.,  -2.,\n",
      "        -2.,  -2.,  -2.,  -2.,  -2.,  -2.,  -2.,  -2.,  -2.,  -2.,  -2.,\n",
      "        -2.,  -2.,  -2.,  -2.,  -2.,  -2.,  -2.,  -2.,  -2.,  -2.,  -2.,\n",
      "        -2.,  -2.,  -2.,  -2.,  -2.,  -2.,  -2.,  -2.,  -2.,  -2.,  -2.,\n",
      "        -2.,  -2.,  -2.,  -2.,  -2.,  -2.,  -2.,  -2.,  -2.,  -2.,  -2.,\n",
      "        -2.,  -2.,  -2.,  -2.,  -2.,  -2.,  -2.,  -2.,  -2.,  -2.,  -2.,\n",
      "        -2.,  -2.,  -2.,  -2.,  -2.,  -2.,  -2.,  -2.,  -2.,  -2.,  -2.,\n",
      "        -2.,  -2.,  -2.,  -2.,  -2.,  -3.,  -3.,  -3.,  -3.,  -3.,  -3.,\n",
      "        -3.,  -3.,  -3.,  -3.,  -3.,  -3.,  -3.,  -3.,  -3.,  -3.,  -2.,\n",
      "        -2.,  -2.,  -2.,  -2.,  -2.,  -2.,  -2.,  -2.,  -2.,  -2.,  -2.,\n",
      "        -2.,  -2.,  -2.,  -2.,  -2.,  -2.,  -2.,  -2.,  -2.,  -2.,  -2.,\n",
      "        -2.,  -2.,  -2.,  -2.,  -2.,  -2.,  -2.,  -2.,  -2.,  -2.,  -2.,\n",
      "        -2.,  -2.,  -2.,  -2.,  -2.,  -2.,  -2.,  -2.,  -2.,  -2.,  -2.,\n",
      "        -2.,  -2.,  -2.,  -2.,  -2.,  -2.,  -2.,  -2.,  -2.,  -2.,  -2.,\n",
      "        -2.,  -2.,  -2.,  -2.,  -2.,  -2.,  -2.,  -2.,  -2.,  -2.,  -2.,\n",
      "        -2.,  -2.,  -2.,  -2.,  -2.,  -2.,  -2.,  -2.,  -2.,  -2.,  -2.,\n",
      "        -2.,  -2.,  -2.,  -2.,  -2.,  -2.,  -2.,  -2.,  -2.,  -2.,  -2.,\n",
      "        -2.,  -2.,  -2.,  -2.,  -2.,  -2.,  -2.,  -2.,  -2.,  -2.,  -2.,\n",
      "        -2.,  -2.,  -2.,  -2.,  -2.,  -2.,  -2.,  -2.,  -2.,  -2.,  -2.,\n",
      "        -2.,  -2.,  -2.,  -2.,  -2.,  -2.,  -2.,  -2.,  -2.,  -2.,  -2.,\n",
      "        -2.,  -2.,  -2.,  -2.,  -2.,  -2.,  -2.,  -2.,  -2.,  -2.,  -2.,\n",
      "        -2.,  -2.,  -2.,  -2.,  -2.,  -2.,  -2.,  -2.,  -2.,  -2.,  -2.,\n",
      "        -2.,  -2.,  -2.,  -2.,  -2.,  -2.,  -2.,  -2.,  -2.,  -2.,  -2.,\n",
      "        -2.,  -2.,  -2.,  -1.,  -1.,  -1.,  -1.,  -1.,  -1.,  -1.,  -1.,\n",
      "        -1.,  -1.,  -1.,  -1.,  -1.,  -1.,  -1.,  -1.,  -1.,  -1.,  -1.,\n",
      "        -0.,  -0.,  -0.,  -0.,  -0.,  -0.,  -0.,  -0.,  -0.,  -0.,  -0.,\n",
      "        -0.,  -0.,  -0.,  -0.,  -0.,  -0.,  -0.,  -0.,  -0.,  -0.,  -0.,\n",
      "        -0.,  -0.,  -0.,  -0.,  -0.,  -0.,  -0.,  -0.,  -0.,  -0.,  -0.,\n",
      "        -0.,  -0.,  -0.,  -0.,  -0.,  -0.,  -0.,  -0.,  -0.,  -0.,  -0.,\n",
      "        -0.,  -0.,  -0.,  -0.,  -0.,  -0.,  -0.,  -0.,  -0.,  -0.,  -0.,\n",
      "        -0.,  -0.,  -0.,  -0.,  -0.,  -0.,  -0.,  -0.,  -0.,  -0.,  -0.,\n",
      "        -0.,  -0.,  -0.,  -0.,  -0.,  -0.,  -0.,  -0.,  -0.,  -0.,  -0.,\n",
      "        -0.,  -0.,  -0.,  -0.,  -0.,  -0.,  -0.,  -0.,  -0.,  -0.,  -0.,\n",
      "        -0.,  -0.,  -0.,  -0.,  -0.,  -0.,  -0.,  -0.,  -0.,  -0.,  -0.,\n",
      "        -0.,  -0.]))\n"
     ]
    }
   ],
   "source": [
    "print(curve)"
   ]
  },
  {
   "cell_type": "code",
   "execution_count": 18,
   "id": "8ab5db36",
   "metadata": {},
   "outputs": [],
   "source": [
    "aneal = [-23., -18., -15., -11., -11., -10.,  -9.,  -8.,  -8.,  -8.,  -8.,\n",
    "        -7.,  -6.,  -5.,  -5.,  -5.,  -5.,  -5.,  -4.,  -4.,  -4.,  -4.,\n",
    "        -4.,  -7.,  -7.,  -5.,  -5.,  -5.,  -5.,  -5.,  -4.,  -4.,  -4.,\n",
    "        -4.,  -4.,  -3.,  -3.,  -3.,  -3.,  -3.,  -3.,  -4.,  -4.,  -4.,\n",
    "        -3.,  -3.,  -3.,  -3.,  -3.,  -3.,  -1.,  -2.,  -2.,  -2.,  -2.,\n",
    "        -4.,  -3.,  -3.,  -3.,  -3.,  -2.,  -2.,  -2.,  -3.,  -3.,  -3.,\n",
    "        -3.,  -3.,  -3.,  -3.,  -3.,  -4.,  -3.,  -3.,  -3.,  -3.,  -3.,\n",
    "        -3.,  -3.,  -3.,  -3.,  -3.,  -3.,  -3.,  -3.,  -3.,  -3.,  -3.,\n",
    "        -3.,  -3.,  -3.,  -3.,  -3.,  -3.,  -3.,  -3.,  -3.,  -4.,  -4.,\n",
    "        -4.,  -4.,  -4.,  -4.,  -4.,  -3.,  -4.,  -4.,  -4.,  -5.,  -5.,\n",
    "        -3.,  -3.,  -3.,  -4.,  -4.,  -3.,  -3.,  -4.,  -4.,  -4.,  -4.,\n",
    "        -4.,  -4.,  -3.,  -3.,  -2.,  -2.,  -2.,  -2.,  -2.,  -2.,  -2.,\n",
    "        -2.,  -2.,  -2.,  -2.,  -2.,  -1.,  -1.,  -1.,  -1.,  -1.,  -1.,\n",
    "        -1.,  -1.,  -1.,  -1.,  -1.,  -1.,  -1.,  -1.,  -1.,  -1.,  -1.,\n",
    "        -1.,  -1.,  -0.,  -0.,  -0.,  -0.,  -0.,  -0.,  -0.,  -0.,  -0.,\n",
    "        -0.,  -0.,  -2.,  -2.,  -2.,  -2.,  -2.,  -2.,  -2.,  -2.,  -3.,\n",
    "        -3.,  -3.,  -3.,  -2.,  -2.,  -2.,  -2.,  -2.,  -2.,  -2.,  -2.,\n",
    "        -2.,  -2.,  -2.,  -2.,  -2.,  -2.,  -2.,  -2.,  -2.,  -2.,  -2.,\n",
    "        -2.,  -2.,  -2.,  -2.,  -2.,  -2.,  -2.,  -2.,  -2.,  -2.,  -2.,\n",
    "        -1.,  -1.,  -1.,  -1.,  -1.,  -1.,  -1.,  -1.,  -1.,  -2.,  -2.,\n",
    "        -2.,  -2.,  -2.,  -2.,  -2.,  -2.,  -2.,  -2.,  -2.,  -2.,  -2.,\n",
    "        -2.,  -2.,  -2.,  -2.,  -2.,  -2.,  -2.,  -2.,  -2.,  -2.,  -2.,\n",
    "        -2.,  -2.,  -2.,  -2.,  -2.,  -2.,  -2.,  -2.,  -2.,  -2.,  -2.,\n",
    "        -2.,  -2.,  -2.,  -2.,  -2.,  -2.,  -2.,  -2.,  -2.,  -2.,  -2.,\n",
    "        -2.,  -2.,  -2.,  -2.,  -2.,  -2.,  -2.,  -2.,  -2.,  -2.,  -2.,\n",
    "        -2.,  -2.,  -2.,  -2.,  -2.,  -2.,  -2.,  -2.,  -2.,  -2.,  -2.,\n",
    "        -2.,  -2.,  -2.,  -2.,  -2.,  -3.,  -3.,  -3.,  -3.,  -3.,  -3.,\n",
    "        -3.,  -3.,  -3.,  -3.,  -3.,  -3.,  -3.,  -3.,  -3.,  -3.,  -2.,\n",
    "        -2.,  -2.,  -2.,  -2.,  -2.,  -2.,  -2.,  -2.,  -2.,  -2.,  -2.,\n",
    "        -2.,  -2.,  -2.,  -2.,  -2.,  -2.,  -2.,  -2.,  -2.,  -2.,  -2.,\n",
    "        -2.,  -2.,  -2.,  -2.,  -2.,  -2.,  -2.,  -2.,  -2.,  -2.,  -2.,\n",
    "        -2.,  -2.,  -2.,  -2.,  -2.,  -2.,  -2.,  -2.,  -2.,  -2.,  -2.,\n",
    "        -2.,  -2.,  -2.,  -2.,  -2.,  -2.,  -2.,  -2.,  -2.,  -2.,  -2.,\n",
    "        -2.,  -2.,  -2.,  -2.,  -2.,  -2.,  -2.,  -2.,  -2.,  -2.,  -2.,\n",
    "        -2.,  -2.,  -2.,  -2.,  -2.,  -2.,  -2.,  -2.,  -2.,  -2.,  -2.,\n",
    "        -2.,  -2.,  -2.,  -2.,  -2.,  -2.,  -2.,  -2.,  -2.,  -2.,  -2.,\n",
    "        -2.,  -2.,  -2.,  -2.,  -2.,  -2.,  -2.,  -2.,  -2.,  -2.,  -2.,\n",
    "        -2.,  -2.,  -2.,  -2.,  -2.,  -2.,  -2.,  -2.,  -2.,  -2.,  -2.,\n",
    "        -2.,  -2.,  -2.,  -2.,  -2.,  -2.,  -2.,  -2.,  -2.,  -2.,  -2.,\n",
    "        -2.,  -2.,  -2.,  -2.,  -2.,  -2.,  -2.,  -2.,  -2.,  -2.,  -2.,\n",
    "        -2.,  -2.,  -2.,  -2.,  -2.,  -2.,  -2.,  -2.,  -2.,  -2.,  -2.,\n",
    "        -2.,  -2.,  -2.,  -2.,  -2.,  -2.,  -2.,  -2.,  -2.,  -2.,  -2.,\n",
    "        -2.,  -2.,  -2.,  -1.,  -1.,  -1.,  -1.,  -1.,  -1.,  -1.,  -1.,\n",
    "        -1.,  -1.,  -1.,  -1.,  -1.,  -1.,  -1.,  -1.,  -1.,  -1.,  -1.,\n",
    "        -0.,  -0.,  -0.,  -0.,  -0.,  -0.,  -0.,  -0.,  -0.,  -0.,  -0.,\n",
    "        -0.,  -0.,  -0.,  -0.,  -0.,  -0.,  -0.,  -0.,  -0.,  -0.,  -0.,\n",
    "        -0.,  -0.,  -0.,  -0.,  -0.,  -0.,  -0.,  -0.,  -0.,  -0.,  -0.,\n",
    "        -0.,  -0.,  -0.,  -0.,  -0.,  -0.,  -0.,  -0.,  -0.,  -0.,  -0.,\n",
    "        -0.,  -0.,  -0.,  -0.,  -0.,  -0.,  -0.,  -0.,  -0.,  -0.,  -0.,\n",
    "        -0.,  -0.,  -0.,  -0.,  -0.,  -0.,  -0.,  -0.,  -0.,  -0.,  -0.,\n",
    "        -0.,  -0.,  -0.,  -0.,  -0.,  -0.,  -0.,  -0.,  -0.,  -0.,  -0.,\n",
    "        -0.,  -0.,  -0.,  -0.,  -0.,  -0.,  -0.,  -0.,  -0.,  -0.,  -0.,\n",
    "        -0.,  -0.,  -0.,  -0.,  -0.,  -0.,  -0.,  -0.,  -0.,  -0.,  -0.,\n",
    "        -0.,  -0.]\n",
    "\n"
   ]
  },
  {
   "cell_type": "code",
   "execution_count": 19,
   "id": "63df7bf8",
   "metadata": {},
   "outputs": [],
   "source": [
    "size = np.arange(1,586,1)\n"
   ]
  },
  {
   "cell_type": "code",
   "execution_count": 20,
   "id": "5c5dc409",
   "metadata": {},
   "outputs": [
    {
     "name": "stdout",
     "output_type": "stream",
     "text": [
      "[  1   2   3   4   5   6   7   8   9  10  11  12  13  14  15  16  17  18\n",
      "  19  20  21  22  23  24  25  26  27  28  29  30  31  32  33  34  35  36\n",
      "  37  38  39  40  41  42  43  44  45  46  47  48  49  50  51  52  53  54\n",
      "  55  56  57  58  59  60  61  62  63  64  65  66  67  68  69  70  71  72\n",
      "  73  74  75  76  77  78  79  80  81  82  83  84  85  86  87  88  89  90\n",
      "  91  92  93  94  95  96  97  98  99 100 101 102 103 104 105 106 107 108\n",
      " 109 110 111 112 113 114 115 116 117 118 119 120 121 122 123 124 125 126\n",
      " 127 128 129 130 131 132 133 134 135 136 137 138 139 140 141 142 143 144\n",
      " 145 146 147 148 149 150 151 152 153 154 155 156 157 158 159 160 161 162\n",
      " 163 164 165 166 167 168 169 170 171 172 173 174 175 176 177 178 179 180\n",
      " 181 182 183 184 185 186 187 188 189 190 191 192 193 194 195 196 197 198\n",
      " 199 200 201 202 203 204 205 206 207 208 209 210 211 212 213 214 215 216\n",
      " 217 218 219 220 221 222 223 224 225 226 227 228 229 230 231 232 233 234\n",
      " 235 236 237 238 239 240 241 242 243 244 245 246 247 248 249 250 251 252\n",
      " 253 254 255 256 257 258 259 260 261 262 263 264 265 266 267 268 269 270\n",
      " 271 272 273 274 275 276 277 278 279 280 281 282 283 284 285 286 287 288\n",
      " 289 290 291 292 293 294 295 296 297 298 299 300 301 302 303 304 305 306\n",
      " 307 308 309 310 311 312 313 314 315 316 317 318 319 320 321 322 323 324\n",
      " 325 326 327 328 329 330 331 332 333 334 335 336 337 338 339 340 341 342\n",
      " 343 344 345 346 347 348 349 350 351 352 353 354 355 356 357 358 359 360\n",
      " 361 362 363 364 365 366 367 368 369 370 371 372 373 374 375 376 377 378\n",
      " 379 380 381 382 383 384 385 386 387 388 389 390 391 392 393 394 395 396\n",
      " 397 398 399 400 401 402 403 404 405 406 407 408 409 410 411 412 413 414\n",
      " 415 416 417 418 419 420 421 422 423 424 425 426 427 428 429 430 431 432\n",
      " 433 434 435 436 437 438 439 440 441 442 443 444 445 446 447 448 449 450\n",
      " 451 452 453 454 455 456 457 458 459 460 461 462 463 464 465 466 467 468\n",
      " 469 470 471 472 473 474 475 476 477 478 479 480 481 482 483 484 485 486\n",
      " 487 488 489 490 491 492 493 494 495 496 497 498 499 500 501 502 503 504\n",
      " 505 506 507 508 509 510 511 512 513 514 515 516 517 518 519 520 521 522\n",
      " 523 524 525 526 527 528 529 530 531 532 533 534 535 536 537 538 539 540\n",
      " 541 542 543 544 545 546 547 548 549 550 551 552 553 554 555 556 557 558\n",
      " 559 560 561 562 563 564 565 566 567 568 569 570 571 572 573 574 575 576\n",
      " 577 578 579 580 581 582 583 584 585]\n"
     ]
    }
   ],
   "source": [
    "print(size)"
   ]
  },
  {
   "cell_type": "code",
   "execution_count": 21,
   "id": "15704882",
   "metadata": {},
   "outputs": [],
   "source": [
    "length_aneal = len(aneal)"
   ]
  },
  {
   "cell_type": "code",
   "execution_count": 25,
   "id": "b9774465",
   "metadata": {},
   "outputs": [],
   "source": [
    "\n",
    "add1 = np.ones(585)\n",
    "add100 = add1*100\n",
    "aneal1 = np.array(aneal) + np.array(add100)\n",
    "#print(anealaccuracy)\n"
   ]
  },
  {
   "cell_type": "code",
   "execution_count": 26,
   "id": "a80356c6",
   "metadata": {},
   "outputs": [
    {
     "name": "stdout",
     "output_type": "stream",
     "text": [
      "585\n"
     ]
    }
   ],
   "source": [
    "print(length_aneal)\n",
    "\n"
   ]
  },
  {
   "cell_type": "code",
   "execution_count": 33,
   "id": "812afd72",
   "metadata": {
    "scrolled": true
   },
   "outputs": [
    {
     "data": {
      "image/png": "[encoded data removed]",
      "text/plain": [
       "<Figure size 432x288 with 1 Axes>"
      ]
     },
     "metadata": {
      "needs_background": "light"
     },
     "output_type": "display_data"
    }
   ],
   "source": [
    "plt.plot(size,aneal1,'b-o',label='Accuracy over batch size for 585 iterations');\n",
    "plt.xlabel('Batch Size')\n",
    "plt.ylabel('Accuracy')\n",
    "plt.legend()\n",
    "plt.show()"
   ]
  },
  {
   "cell_type": "code",
   "execution_count": 32,
   "id": "eacda7e9",
   "metadata": {
    "scrolled": true
   },
   "outputs": [
    {
     "ename": "IndentationError",
     "evalue": "unexpected indent (Temp/ipykernel_21692/2992452940.py, line 2)",
     "output_type": "error",
     "traceback": [
      "\u001b[1;36m  File \u001b[1;32m\"C:\\Users\\Lyn\\AppData\\Local\\Temp/ipykernel_21692/2992452940.py\"\u001b[1;36m, line \u001b[1;32m2\u001b[0m\n\u001b[1;33m    fitness_curve = mlrose.genetic_alg(problem, mutation_prob = 0.2, max_attempts = 100,curve = true,\u001b[0m\n\u001b[1;37m    ^\u001b[0m\n\u001b[1;31mIndentationError\u001b[0m\u001b[1;31m:\u001b[0m unexpected indent\n"
     ]
    }
   ],
   "source": [
    "#8queensGA\n",
    " fitness_curve = mlrose.genetic_alg(problem, mutation_prob = 0.2, max_attempts = 100,curve = true,\n",
    "                                              random_state = 2)\n",
    "    \n",
    "    "
   ]
  },
  {
   "cell_type": "code",
   "execution_count": null,
   "id": "509b3445",
   "metadata": {},
   "outputs": [],
   "source": []
  }
 ],
 "metadata": {
  "kernelspec": {
   "display_name": "Python 3 (ipykernel)",
   "language": "python",
   "name": "python3"
  },
  "language_info": {
   "codemirror_mode": {
    "name": "ipython",
    "version": 3
   },
   "file_extension": ".py",
   "mimetype": "text/x-python",
   "name": "python",
   "nbconvert_exporter": "python",
   "pygments_lexer": "ipython3",
   "version": "3.9.7"
  }
 },
 "nbformat": 4,
 "nbformat_minor": 5
}
