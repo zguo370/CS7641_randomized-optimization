{
 "cells": [
  {
   "cell_type": "code",
   "execution_count": 1,
   "id": "af24910f",
   "metadata": {},
   "outputs": [],
   "source": [
    "import six\n",
    "import sys\n",
    "sys.modules['sklearn.externals.six'] = six\n",
    "import mlrose\n",
    "\n",
    "import numpy as np\n",
    "import matplotlib.pyplot as plt\n",
    "\n",
    "from sklearn.datasets import load_iris\n",
    "from sklearn.model_selection import train_test_split\n",
    "from sklearn.preprocessing import MinMaxScaler, OneHotEncoder\n",
    "from sklearn.metrics import accuracy_score"
   ]
  },
  {
   "cell_type": "code",
   "execution_count": 2,
   "id": "2ddf99f3",
   "metadata": {},
   "outputs": [],
   "source": [
    " #Create list of city coordinates\n",
    "coords_list = [(1, 1), (4, 2), (5, 2), (6, 4), (4, 4), (3, 6), (1, 5), (2, 3)]\n",
    "\n",
    "# Initialize fitness function object using coords_list\n",
    "fitness_coords = mlrose.TravellingSales(coords = coords_list)"
   ]
  },
  {
   "cell_type": "code",
   "execution_count": 3,
   "id": "ea1b5764",
   "metadata": {},
   "outputs": [],
   "source": [
    "# Define optimization problem object\n",
    "problem_fit = mlrose.TSPOpt(length = 8, fitness_fn = fitness_coords, maximize = False)"
   ]
  },
  {
   "cell_type": "code",
   "execution_count": 4,
   "id": "4bc30665",
   "metadata": {},
   "outputs": [],
   "source": [
    "\n",
    "curve = mlrose.random_hill_climb(problem_fit, max_attempts=10, max_iters=1000, restarts=8, curve=True, random_state=1)\n"
   ]
  },
  {
   "cell_type": "code",
   "execution_count": 5,
   "id": "c51ece62",
   "metadata": {},
   "outputs": [
    {
     "name": "stdout",
     "output_type": "stream",
     "text": [
      "(array([3, 2, 1, 0, 7, 6, 5, 4]), 17.34261754766733, array([-25.41538797, -22.5563959 , -22.5563959 , -20.95474153,\n",
      "       -20.95474153, -20.95474153, -20.95474153, -20.95474153,\n",
      "       -20.49171438, -20.49171438, -19.19503691, -19.19503691,\n",
      "       -19.19503691, -19.19503691, -19.19503691, -19.19503691,\n",
      "       -19.19503691, -19.19503691, -19.19503691, -19.19503691,\n",
      "       -19.19503691, -24.09725436, -23.2941503 , -23.2941503 ,\n",
      "       -23.2941503 , -23.17356944, -23.17356944, -23.17356944,\n",
      "       -23.09977913, -23.09977913, -23.09977913, -23.09977913,\n",
      "       -22.25393247, -22.25393247, -22.25393247, -22.25393247,\n",
      "       -22.25393247, -22.25393247, -22.25393247, -22.25393247,\n",
      "       -22.25393247, -20.01129178, -20.01129178, -20.01129178,\n",
      "       -20.01129178, -20.01129178, -20.01129178, -20.01129178,\n",
      "       -20.01129178, -20.01129178, -20.01129178, -20.01129178,\n",
      "       -23.80058819, -23.80058819, -23.80058819, -23.80058819,\n",
      "       -23.80058819, -22.63831053, -22.63831053, -22.63831053,\n",
      "       -22.63831053, -19.94816882, -19.94816882, -19.94816882,\n",
      "       -19.94816882, -19.94816882, -19.79246387, -19.79246387,\n",
      "       -19.79246387, -19.79246387, -19.79246387, -19.79246387,\n",
      "       -19.79246387, -19.79246387, -19.79246387, -19.79246387,\n",
      "       -19.79246387, -23.86119768, -23.86119768, -23.86119768,\n",
      "       -23.86119768, -23.86119768, -23.86119768, -23.11669284,\n",
      "       -23.11669284, -23.11669284, -23.11669284, -23.11669284,\n",
      "       -23.11669284, -23.11669284, -23.11669284, -23.11669284,\n",
      "       -23.11669284, -23.11669284, -25.76141615, -22.99748413,\n",
      "       -22.99748413, -22.99748413, -20.57868553, -20.57868553,\n",
      "       -20.57868553, -20.57868553, -20.57868553, -20.57868553,\n",
      "       -20.57868553, -20.57868553, -20.57868553, -20.57868553,\n",
      "       -20.57868553, -26.65227811, -26.65227811, -26.65227811,\n",
      "       -26.65227811, -26.65227811, -26.65227811, -26.65227811,\n",
      "       -25.57191508, -25.57191508, -25.57191508, -25.57191508,\n",
      "       -25.57191508, -25.57191508, -25.57191508, -25.57191508,\n",
      "       -25.57191508, -24.32266627, -24.10383836, -24.10383836,\n",
      "       -24.10383836, -24.10383836, -24.10383836, -24.10383836,\n",
      "       -24.10383836, -24.10383836, -24.10383836, -24.10383836,\n",
      "       -24.10383836, -28.04208511, -25.62492066, -21.25953202,\n",
      "       -21.25953202, -21.25953202, -21.25953202, -21.25953202,\n",
      "       -21.25953202, -21.25953202, -21.25953202, -21.25953202,\n",
      "       -19.40711265, -19.40711265, -19.40711265, -19.40711265,\n",
      "       -17.34261755, -17.34261755, -17.34261755, -17.34261755,\n",
      "       -17.34261755, -17.34261755, -17.34261755, -17.34261755,\n",
      "       -17.34261755, -17.34261755, -17.34261755, -28.23976716,\n",
      "       -27.47988307, -26.89309345, -26.89309345, -26.89309345,\n",
      "       -26.89309345, -23.74823532, -23.74823532, -23.25466192,\n",
      "       -23.25466192, -21.40224255, -21.40224255, -21.40224255,\n",
      "       -21.40224255, -21.40224255, -21.40224255, -21.40224255,\n",
      "       -21.40224255, -21.40224255, -21.40224255, -21.40224255,\n",
      "       -23.43686083, -23.43686083, -23.43686083, -22.5563959 ,\n",
      "       -22.5563959 , -20.95474153, -20.95474153, -20.95474153,\n",
      "       -19.87437851, -19.87437851, -19.87437851, -19.19503691,\n",
      "       -19.19503691, -19.19503691, -19.19503691, -19.19503691,\n",
      "       -19.19503691, -19.19503691, -19.19503691, -19.19503691,\n",
      "       -19.19503691, -19.19503691]))\n"
     ]
    }
   ],
   "source": [
    "print(curve)"
   ]
  },
  {
   "cell_type": "code",
   "execution_count": 6,
   "id": "2913a31c",
   "metadata": {
    "scrolled": true
   },
   "outputs": [
    {
     "name": "stdout",
     "output_type": "stream",
     "text": [
      "206\n"
     ]
    }
   ],
   "source": [
    "aneal = [-25.41538797, -22.5563959 , -22.5563959 , -20.95474153,\n",
    "       -20.95474153, -20.95474153, -20.95474153, -20.95474153,\n",
    "       -20.49171438, -20.49171438, -19.19503691, -19.19503691,\n",
    "       -19.19503691, -19.19503691, -19.19503691, -19.19503691,\n",
    "       -19.19503691, -19.19503691, -19.19503691, -19.19503691,\n",
    "       -19.19503691, -24.09725436, -23.2941503 , -23.2941503 ,\n",
    "       -23.2941503 , -23.17356944, -23.17356944, -23.17356944,\n",
    "       -23.09977913, -23.09977913, -23.09977913, -23.09977913,\n",
    "       -22.25393247, -22.25393247, -22.25393247, -22.25393247,\n",
    "       -22.25393247, -22.25393247, -22.25393247, -22.25393247,\n",
    "       -22.25393247, -20.01129178, -20.01129178, -20.01129178,\n",
    "       -20.01129178, -20.01129178, -20.01129178, -20.01129178,\n",
    "       -20.01129178, -20.01129178, -20.01129178, -20.01129178,\n",
    "       -23.80058819, -23.80058819, -23.80058819, -23.80058819,\n",
    "       -23.80058819, -22.63831053, -22.63831053, -22.63831053,\n",
    "       -22.63831053, -19.94816882, -19.94816882, -19.94816882,\n",
    "       -19.94816882, -19.94816882, -19.79246387, -19.79246387,\n",
    "       -19.79246387, -19.79246387, -19.79246387, -19.79246387,\n",
    "       -19.79246387, -19.79246387, -19.79246387, -19.79246387,\n",
    "       -19.79246387, -23.86119768, -23.86119768, -23.86119768,\n",
    "       -23.86119768, -23.86119768, -23.86119768, -23.11669284,\n",
    "       -23.11669284, -23.11669284, -23.11669284, -23.11669284,\n",
    "       -23.11669284, -23.11669284, -23.11669284, -23.11669284,\n",
    "       -23.11669284, -23.11669284, -25.76141615, -22.99748413,\n",
    "       -22.99748413, -22.99748413, -20.57868553, -20.57868553,\n",
    "       -20.57868553, -20.57868553, -20.57868553, -20.57868553,\n",
    "       -20.57868553, -20.57868553, -20.57868553, -20.57868553,\n",
    "       -20.57868553, -26.65227811, -26.65227811, -26.65227811,\n",
    "       -26.65227811, -26.65227811, -26.65227811, -26.65227811,\n",
    "       -25.57191508, -25.57191508, -25.57191508, -25.57191508,\n",
    "       -25.57191508, -25.57191508, -25.57191508, -25.57191508,\n",
    "       -25.57191508, -24.32266627, -24.10383836, -24.10383836,\n",
    "       -24.10383836, -24.10383836, -24.10383836, -24.10383836,\n",
    "       -24.10383836, -24.10383836, -24.10383836, -24.10383836,\n",
    "       -24.10383836, -28.04208511, -25.62492066, -21.25953202,\n",
    "       -21.25953202, -21.25953202, -21.25953202, -21.25953202,\n",
    "       -21.25953202, -21.25953202, -21.25953202, -21.25953202,\n",
    "       -19.40711265, -19.40711265, -19.40711265, -19.40711265,\n",
    "       -17.34261755, -17.34261755, -17.34261755, -17.34261755,\n",
    "       -17.34261755, -17.34261755, -17.34261755, -17.34261755,\n",
    "       -17.34261755, -17.34261755, -17.34261755, -28.23976716,\n",
    "       -27.47988307, -26.89309345, -26.89309345, -26.89309345,\n",
    "       -26.89309345, -23.74823532, -23.74823532, -23.25466192,\n",
    "       -23.25466192, -21.40224255, -21.40224255, -21.40224255,\n",
    "       -21.40224255, -21.40224255, -21.40224255, -21.40224255,\n",
    "       -21.40224255, -21.40224255, -21.40224255, -21.40224255,\n",
    "       -23.43686083, -23.43686083, -23.43686083, -22.5563959 ,\n",
    "       -22.5563959 , -20.95474153, -20.95474153, -20.95474153,\n",
    "       -19.87437851, -19.87437851, -19.87437851, -19.19503691,\n",
    "       -19.19503691, -19.19503691, -19.19503691, -19.19503691,\n",
    "       -19.19503691, -19.19503691, -19.19503691, -19.19503691,\n",
    "       -19.19503691, -19.19503691]\n",
    "\n",
    "length_aneal = len(aneal)\n",
    "print(length_aneal)"
   ]
  },
  {
   "cell_type": "code",
   "execution_count": 7,
   "id": "c9536a84",
   "metadata": {},
   "outputs": [],
   "source": [
    "size = np.arange(1,length_aneal+1,1)\n"
   ]
  },
  {
   "cell_type": "code",
   "execution_count": 8,
   "id": "e3266725",
   "metadata": {},
   "outputs": [
    {
     "name": "stdout",
     "output_type": "stream",
     "text": [
      "[  1   2   3   4   5   6   7   8   9  10  11  12  13  14  15  16  17  18\n",
      "  19  20  21  22  23  24  25  26  27  28  29  30  31  32  33  34  35  36\n",
      "  37  38  39  40  41  42  43  44  45  46  47  48  49  50  51  52  53  54\n",
      "  55  56  57  58  59  60  61  62  63  64  65  66  67  68  69  70  71  72\n",
      "  73  74  75  76  77  78  79  80  81  82  83  84  85  86  87  88  89  90\n",
      "  91  92  93  94  95  96  97  98  99 100 101 102 103 104 105 106 107 108\n",
      " 109 110 111 112 113 114 115 116 117 118 119 120 121 122 123 124 125 126\n",
      " 127 128 129 130 131 132 133 134 135 136 137 138 139 140 141 142 143 144\n",
      " 145 146 147 148 149 150 151 152 153 154 155 156 157 158 159 160 161 162\n",
      " 163 164 165 166 167 168 169 170 171 172 173 174 175 176 177 178 179 180\n",
      " 181 182 183 184 185 186 187 188 189 190 191 192 193 194 195 196 197 198\n",
      " 199 200 201 202 203 204 205 206]\n"
     ]
    }
   ],
   "source": [
    "print(size)"
   ]
  },
  {
   "cell_type": "code",
   "execution_count": 10,
   "id": "e25ef841",
   "metadata": {},
   "outputs": [],
   "source": [
    "\n",
    "add1 = np.ones(length_aneal)\n",
    "add100 = add1*100\n",
    "addoptimal = add1*17.34261754766733\n",
    "aneal1 = np.array(aneal) + np.array(addoptimal)+ np.array(add100)\n",
    "#print(anealaccuracy)\n"
   ]
  },
  {
   "cell_type": "code",
   "execution_count": 11,
   "id": "f043f75e",
   "metadata": {
    "scrolled": true
   },
   "outputs": [
    {
     "data": {
      "image/png": "[encoded data removed]",
      "text/plain": [
       "<Figure size 432x288 with 1 Axes>"
      ]
     },
     "metadata": {
      "needs_background": "light"
     },
     "output_type": "display_data"
    }
   ],
   "source": [
    "plt.plot(size,aneal1,'b-o',label='Accuracy over batch size for 206 iterations');\n",
    "plt.xlabel('Batch Size')\n",
    "plt.ylabel('Accuracy')\n",
    "plt.legend()\n",
    "plt.show()"
   ]
  },
  {
   "cell_type": "code",
   "execution_count": null,
   "id": "8e88b95b",
   "metadata": {},
   "outputs": [],
   "source": []
  }
 ],
 "metadata": {
  "kernelspec": {
   "display_name": "Python 3 (ipykernel)",
   "language": "python",
   "name": "python3"
  },
  "language_info": {
   "codemirror_mode": {
    "name": "ipython",
    "version": 3
   },
   "file_extension": ".py",
   "mimetype": "text/x-python",
   "name": "python",
   "nbconvert_exporter": "python",
   "pygments_lexer": "ipython3",
   "version": "3.9.7"
  }
 },
 "nbformat": 4,
 "nbformat_minor": 5
}
