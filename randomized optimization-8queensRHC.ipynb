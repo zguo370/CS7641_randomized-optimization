{
 "cells": [
  {
   "cell_type": "code",
   "execution_count": 1,
   "id": "af24910f",
   "metadata": {},
   "outputs": [],
   "source": [
    "import six\n",
    "import sys\n",
    "sys.modules['sklearn.externals.six'] = six\n",
    "import mlrose\n",
    "\n",
    "import numpy as np\n",
    "import matplotlib.pyplot as plt\n",
    "\n",
    "from sklearn.datasets import load_iris\n",
    "from sklearn.model_selection import train_test_split\n",
    "from sklearn.preprocessing import MinMaxScaler, OneHotEncoder\n",
    "from sklearn.metrics import accuracy_score"
   ]
  },
  {
   "cell_type": "code",
   "execution_count": 2,
   "id": "fe49c164",
   "metadata": {},
   "outputs": [],
   "source": [
    "fitness = mlrose.Queens()"
   ]
  },
  {
   "cell_type": "code",
   "execution_count": 3,
   "id": "33b43268",
   "metadata": {},
   "outputs": [],
   "source": [
    "# Define optimization problem object\n",
    "problem = mlrose.DiscreteOpt(length = 8, fitness_fn = fitness, maximize=False, max_val=8)"
   ]
  },
  {
   "cell_type": "code",
   "execution_count": 4,
   "id": "1842bd0c",
   "metadata": {},
   "outputs": [],
   "source": [
    "# Define decay schedule\n",
    "schedule = mlrose.ExpDecay()"
   ]
  },
  {
   "cell_type": "code",
   "execution_count": 5,
   "id": "ea1b5764",
   "metadata": {},
   "outputs": [],
   "source": [
    "# Solve using simulated annealing - attempt 1         \n",
    "init_state = np.array([0, 1, 2, 3, 4, 5, 6, 7])\n",
    "#best_state, best_fitness = mlrose.simulated_annealing(problem, schedule = schedule, max_attempts = 10, \n",
    "                                                    # max_iters = 1000, init_state = init_state,\n",
    "                                                      #random_state = 1)\n",
    "curve = mlrose.random_hill_climb(problem, max_attempts=10, max_iters=1000, restarts=8, init_state=init_state , curve=True, random_state=1)"
   ]
  },
  {
   "cell_type": "code",
   "execution_count": 6,
   "id": "c51ece62",
   "metadata": {},
   "outputs": [
    {
     "name": "stdout",
     "output_type": "stream",
     "text": [
      "(array([0, 6, 3, 7, 7, 1, 2, 5]), 2.0, array([-23., -18., -15., -11., -11.,  -9.,  -9.,  -9.,  -9.,  -9.,  -9.,\n",
      "        -9.,  -9.,  -9.,  -9.,  -9., -23., -19., -15., -14., -12., -10.,\n",
      "        -9.,  -9.,  -7.,  -7.,  -7.,  -6.,  -6.,  -6.,  -4.,  -4.,  -4.,\n",
      "        -4.,  -4.,  -4.,  -4.,  -4.,  -4.,  -4.,  -4., -22., -18., -13.,\n",
      "       -10.,  -7.,  -7.,  -7.,  -6.,  -6.,  -6.,  -6.,  -5.,  -5.,  -5.,\n",
      "        -4.,  -4.,  -4.,  -4.,  -4.,  -3.,  -3.,  -3.,  -3.,  -3.,  -3.,\n",
      "        -2.,  -2.,  -2.,  -2.,  -2.,  -2.,  -2.,  -2.,  -2.,  -2.,  -2.,\n",
      "       -23., -16., -12.,  -9.,  -7.,  -7.,  -7.,  -7.,  -7.,  -6.,  -5.,\n",
      "        -5.,  -5.,  -5.,  -5.,  -4.,  -4.,  -4.,  -4.,  -4.,  -4.,  -4.,\n",
      "        -4.,  -4.,  -4.,  -4., -23., -17., -17., -17., -15., -15., -15.,\n",
      "       -15., -15., -11.,  -8.,  -6.,  -6.,  -6.,  -6.,  -6.,  -6.,  -6.,\n",
      "        -6.,  -6.,  -6.,  -4.,  -4.,  -4.,  -4.,  -4.,  -4.,  -4.,  -4.,\n",
      "        -4.,  -4.,  -4., -23., -18., -13.,  -9.,  -7.,  -7.,  -7.,  -7.,\n",
      "        -7.,  -7.,  -7.,  -5.,  -5.,  -5.,  -5.,  -5.,  -5.,  -5.,  -5.,\n",
      "        -5.,  -5.,  -5., -23., -22., -18., -16., -14., -12., -12., -12.,\n",
      "       -11., -11., -11., -11.,  -9.,  -9.,  -6.,  -5.,  -4.,  -4.,  -4.,\n",
      "        -4.,  -3.,  -3.,  -3.,  -3.,  -3.,  -3.,  -3.,  -3.,  -3.,  -3.,\n",
      "        -3., -22., -16., -11., -11., -11., -11., -10., -10.,  -9.,  -6.,\n",
      "        -6.,  -6.,  -6.,  -6.,  -5.,  -5.,  -4.,  -2.,  -2.,  -2.,  -2.,\n",
      "        -2.,  -2.,  -2.,  -2.,  -2.,  -2.,  -2., -22., -18., -14., -11.,\n",
      "       -11.,  -8.,  -8.,  -8.,  -8.,  -8.,  -7.,  -7.,  -7.,  -7.,  -5.,\n",
      "        -5.,  -5.,  -5.,  -5.,  -5.,  -4.,  -4.,  -4.,  -4.,  -4.,  -4.,\n",
      "        -4.,  -4.,  -3.,  -3.,  -3.,  -3.,  -3.,  -3.,  -3.,  -3.,  -3.,\n",
      "        -3.,  -3.]))\n"
     ]
    }
   ],
   "source": [
    "print(curve)"
   ]
  },
  {
   "cell_type": "code",
   "execution_count": 7,
   "id": "2913a31c",
   "metadata": {},
   "outputs": [
    {
     "name": "stdout",
     "output_type": "stream",
     "text": [
      "255\n"
     ]
    }
   ],
   "source": [
    "aneal = [-23., -18., -15., -11., -11.,  -9.,  -9.,  -9.,  -9.,  -9.,  -9.,\n",
    "        -9.,  -9.,  -9.,  -9.,  -9., -23., -19., -15., -14., -12., -10.,\n",
    "        -9.,  -9.,  -7.,  -7.,  -7.,  -6.,  -6.,  -6.,  -4.,  -4.,  -4.,\n",
    "        -4.,  -4.,  -4.,  -4.,  -4.,  -4.,  -4.,  -4., -22., -18., -13.,\n",
    "       -10.,  -7.,  -7.,  -7.,  -6.,  -6.,  -6.,  -6.,  -5.,  -5.,  -5.,\n",
    "        -4.,  -4.,  -4.,  -4.,  -4.,  -3.,  -3.,  -3.,  -3.,  -3.,  -3.,\n",
    "        -2.,  -2.,  -2.,  -2.,  -2.,  -2.,  -2.,  -2.,  -2.,  -2.,  -2.,\n",
    "       -23., -16., -12.,  -9.,  -7.,  -7.,  -7.,  -7.,  -7.,  -6.,  -5.,\n",
    "        -5.,  -5.,  -5.,  -5.,  -4.,  -4.,  -4.,  -4.,  -4.,  -4.,  -4.,\n",
    "        -4.,  -4.,  -4.,  -4., -23., -17., -17., -17., -15., -15., -15.,\n",
    "       -15., -15., -11.,  -8.,  -6.,  -6.,  -6.,  -6.,  -6.,  -6.,  -6.,\n",
    "        -6.,  -6.,  -6.,  -4.,  -4.,  -4.,  -4.,  -4.,  -4.,  -4.,  -4.,\n",
    "        -4.,  -4.,  -4., -23., -18., -13.,  -9.,  -7.,  -7.,  -7.,  -7.,\n",
    "        -7.,  -7.,  -7.,  -5.,  -5.,  -5.,  -5.,  -5.,  -5.,  -5.,  -5.,\n",
    "        -5.,  -5.,  -5., -23., -22., -18., -16., -14., -12., -12., -12.,\n",
    "       -11., -11., -11., -11.,  -9.,  -9.,  -6.,  -5.,  -4.,  -4.,  -4.,\n",
    "        -4.,  -3.,  -3.,  -3.,  -3.,  -3.,  -3.,  -3.,  -3.,  -3.,  -3.,\n",
    "        -3., -22., -16., -11., -11., -11., -11., -10., -10.,  -9.,  -6.,\n",
    "        -6.,  -6.,  -6.,  -6.,  -5.,  -5.,  -4.,  -2.,  -2.,  -2.,  -2.,\n",
    "        -2.,  -2.,  -2.,  -2.,  -2.,  -2.,  -2., -22., -18., -14., -11.,\n",
    "       -11.,  -8.,  -8.,  -8.,  -8.,  -8.,  -7.,  -7.,  -7.,  -7.,  -5.,\n",
    "        -5.,  -5.,  -5.,  -5.,  -5.,  -4.,  -4.,  -4.,  -4.,  -4.,  -4.,\n",
    "        -4.,  -4.,  -3.,  -3.,  -3.,  -3.,  -3.,  -3.,  -3.,  -3.,  -3.,\n",
    "        -3.,  -3.]\n",
    "\n",
    "length_aneal = len(aneal)\n",
    "print(length_aneal)"
   ]
  },
  {
   "cell_type": "code",
   "execution_count": 8,
   "id": "c9536a84",
   "metadata": {},
   "outputs": [],
   "source": [
    "size = np.arange(1,256,1)\n"
   ]
  },
  {
   "cell_type": "code",
   "execution_count": 9,
   "id": "e3266725",
   "metadata": {},
   "outputs": [
    {
     "name": "stdout",
     "output_type": "stream",
     "text": [
      "[  1   2   3   4   5   6   7   8   9  10  11  12  13  14  15  16  17  18\n",
      "  19  20  21  22  23  24  25  26  27  28  29  30  31  32  33  34  35  36\n",
      "  37  38  39  40  41  42  43  44  45  46  47  48  49  50  51  52  53  54\n",
      "  55  56  57  58  59  60  61  62  63  64  65  66  67  68  69  70  71  72\n",
      "  73  74  75  76  77  78  79  80  81  82  83  84  85  86  87  88  89  90\n",
      "  91  92  93  94  95  96  97  98  99 100 101 102 103 104 105 106 107 108\n",
      " 109 110 111 112 113 114 115 116 117 118 119 120 121 122 123 124 125 126\n",
      " 127 128 129 130 131 132 133 134 135 136 137 138 139 140 141 142 143 144\n",
      " 145 146 147 148 149 150 151 152 153 154 155 156 157 158 159 160 161 162\n",
      " 163 164 165 166 167 168 169 170 171 172 173 174 175 176 177 178 179 180\n",
      " 181 182 183 184 185 186 187 188 189 190 191 192 193 194 195 196 197 198\n",
      " 199 200 201 202 203 204 205 206 207 208 209 210 211 212 213 214 215 216\n",
      " 217 218 219 220 221 222 223 224 225 226 227 228 229 230 231 232 233 234\n",
      " 235 236 237 238 239 240 241 242 243 244 245 246 247 248 249 250 251 252\n",
      " 253 254 255]\n"
     ]
    }
   ],
   "source": [
    "print(size)"
   ]
  },
  {
   "cell_type": "code",
   "execution_count": 10,
   "id": "e25ef841",
   "metadata": {},
   "outputs": [],
   "source": [
    "\n",
    "add1 = np.ones(255)\n",
    "add100 = add1*100\n",
    "aneal1 = np.array(aneal) + np.array(add100)\n",
    "#print(anealaccuracy)\n"
   ]
  },
  {
   "cell_type": "code",
   "execution_count": 12,
   "id": "f043f75e",
   "metadata": {
    "scrolled": true
   },
   "outputs": [
    {
     "data": {
      "image/png": "[encoded data removed]",
      "text/plain": [
       "<Figure size 432x288 with 1 Axes>"
      ]
     },
     "metadata": {
      "needs_background": "light"
     },
     "output_type": "display_data"
    }
   ],
   "source": [
    "plt.plot(size,aneal1,'b-o',label='Accuracy over batch size for 255 iterations');\n",
    "plt.xlabel('Batch Size')\n",
    "plt.ylabel('Accuracy')\n",
    "plt.legend()\n",
    "plt.show()"
   ]
  },
  {
   "cell_type": "code",
   "execution_count": null,
   "id": "8e88b95b",
   "metadata": {},
   "outputs": [],
   "source": []
  }
 ],
 "metadata": {
  "kernelspec": {
   "display_name": "Python 3 (ipykernel)",
   "language": "python",
   "name": "python3"
  },
  "language_info": {
   "codemirror_mode": {
    "name": "ipython",
    "version": 3
   },
   "file_extension": ".py",
   "mimetype": "text/x-python",
   "name": "python",
   "nbconvert_exporter": "python",
   "pygments_lexer": "ipython3",
   "version": "3.9.7"
  }
 },
 "nbformat": 4,
 "nbformat_minor": 5
}
