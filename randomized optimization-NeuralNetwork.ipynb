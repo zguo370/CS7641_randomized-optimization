{
 "cells": [
  {
   "cell_type": "code",
   "execution_count": 1,
   "id": "af24910f",
   "metadata": {},
   "outputs": [],
   "source": [
    "import six\n",
    "import sys\n",
    "sys.modules['sklearn.externals.six'] = six\n",
    "import mlrose\n",
    "\n",
    "import numpy as np\n",
    "import matplotlib.pyplot as plt\n",
    "\n",
    "from sklearn.datasets import load_iris\n",
    "from sklearn.model_selection import train_test_split\n",
    "from sklearn.preprocessing import MinMaxScaler, OneHotEncoder\n",
    "from sklearn.metrics import accuracy_score"
   ]
  },
  {
   "cell_type": "code",
   "execution_count": 2,
   "id": "b673ee9f",
   "metadata": {},
   "outputs": [],
   "source": [
    "# Load the Iris dataset\n",
    "data = load_iris()"
   ]
  },
  {
   "cell_type": "code",
   "execution_count": 3,
   "id": "682bf26f",
   "metadata": {},
   "outputs": [
    {
     "name": "stdout",
     "output_type": "stream",
     "text": [
      "[5.1 3.5 1.4 0.2]\n"
     ]
    }
   ],
   "source": [
    "# Get feature values of first observation\n",
    "print(data.data[0])"
   ]
  },
  {
   "cell_type": "code",
   "execution_count": 4,
   "id": "db3bb5a6",
   "metadata": {},
   "outputs": [
    {
     "name": "stdout",
     "output_type": "stream",
     "text": [
      "['sepal length (cm)', 'sepal width (cm)', 'petal length (cm)', 'petal width (cm)']\n"
     ]
    }
   ],
   "source": [
    "# Get feature names\n",
    "print(data.feature_names)"
   ]
  },
  {
   "cell_type": "code",
   "execution_count": 5,
   "id": "726c56fd",
   "metadata": {},
   "outputs": [
    {
     "name": "stdout",
     "output_type": "stream",
     "text": [
      "0\n"
     ]
    }
   ],
   "source": [
    "# Get target value of first observation\n",
    "print(data.target[0])"
   ]
  },
  {
   "cell_type": "code",
   "execution_count": 6,
   "id": "6ca1b28a",
   "metadata": {},
   "outputs": [
    {
     "name": "stdout",
     "output_type": "stream",
     "text": [
      "setosa\n"
     ]
    }
   ],
   "source": [
    "# Get target name of first observation\n",
    "print(data.target_names[data.target[0]])"
   ]
  },
  {
   "cell_type": "code",
   "execution_count": 7,
   "id": "2f07714c",
   "metadata": {},
   "outputs": [
    {
     "name": "stdout",
     "output_type": "stream",
     "text": [
      "[4.3 2.  1.  0.1]\n"
     ]
    }
   ],
   "source": [
    "# Get minimum feature values\n",
    "print(np.min(data.data, axis = 0))"
   ]
  },
  {
   "cell_type": "code",
   "execution_count": 8,
   "id": "b0d317ba",
   "metadata": {},
   "outputs": [
    {
     "name": "stdout",
     "output_type": "stream",
     "text": [
      "[7.9 4.4 6.9 2.5]\n"
     ]
    }
   ],
   "source": [
    "# Get maximum feature values\n",
    "print(np.max(data.data, axis = 0))"
   ]
  },
  {
   "cell_type": "code",
   "execution_count": 9,
   "id": "57754f3e",
   "metadata": {},
   "outputs": [
    {
     "name": "stdout",
     "output_type": "stream",
     "text": [
      "[0 1 2]\n"
     ]
    }
   ],
   "source": [
    "# Get unique target values\n",
    "print(np.unique(data.target))"
   ]
  },
  {
   "cell_type": "code",
   "execution_count": 10,
   "id": "59524b60",
   "metadata": {},
   "outputs": [],
   "source": [
    "# Split data into training and test sets\n",
    "X_train, X_test, y_train, y_test = train_test_split(data.data, data.target, test_size = 0.2, \n",
    "                                                    random_state = 3)"
   ]
  },
  {
   "cell_type": "code",
   "execution_count": 11,
   "id": "6f96ad7f",
   "metadata": {},
   "outputs": [],
   "source": [
    "# Normalize feature data\n",
    "scaler = MinMaxScaler()\n",
    "\n",
    "X_train_scaled = scaler.fit_transform(X_train)\n",
    "X_test_scaled = scaler.transform(X_test)"
   ]
  },
  {
   "cell_type": "code",
   "execution_count": 12,
   "id": "146c344d",
   "metadata": {},
   "outputs": [],
   "source": [
    "# One hot encode target values\n",
    "one_hot = OneHotEncoder()\n",
    "\n",
    "y_train_hot = one_hot.fit_transform(y_train.reshape(-1, 1)).todense()\n",
    "y_test_hot = one_hot.transform(y_test.reshape(-1, 1)).todense()"
   ]
  },
  {
   "cell_type": "code",
   "execution_count": 22,
   "id": "25e3b544",
   "metadata": {},
   "outputs": [
    {
     "name": "stdout",
     "output_type": "stream",
     "text": [
      "NeuralNetwork(clip_max=5, early_stopping=True, hidden_nodes=[2],\n",
      "              learning_rate=0.0001, max_iters=1000)\n"
     ]
    }
   ],
   "source": [
    "# Initialize neural network object and fit object - attempt 1\n",
    "\n",
    "fitness_curve = mlrose.NeuralNetwork(hidden_nodes = [2], activation ='relu', \n",
    "                                 algorithm ='random_hill_climb', \n",
    "                                 max_iters = 1000, bias = True, is_classifier = True, \n",
    "                                 learning_rate = 0.0001, early_stopping = True, \n",
    "                                 clip_max = 5, max_attempts = 100, random_state = 3,curve=True)\n",
    "print(fitness_curve)"
   ]
  },
  {
   "cell_type": "code",
   "execution_count": 14,
   "id": "cb813cad",
   "metadata": {},
   "outputs": [
    {
     "name": "stdout",
     "output_type": "stream",
     "text": [
      "0.45\n"
     ]
    }
   ],
   "source": [
    "# Predict labels for train set and assess accuracy\n",
    "y_train_pred = nn_model1.predict(X_train_scaled)\n",
    "\n",
    "y_train_accuracy = accuracy_score(y_train_hot, y_train_pred)\n",
    "\n",
    "print(y_train_accuracy)"
   ]
  },
  {
   "cell_type": "code",
   "execution_count": 15,
   "id": "64c1e597",
   "metadata": {},
   "outputs": [
    {
     "name": "stdout",
     "output_type": "stream",
     "text": [
      "0.5333333333333333\n"
     ]
    }
   ],
   "source": [
    "# Predict labels for test set and assess accuracy\n",
    "y_test_pred = nn_model1.predict(X_test_scaled)\n",
    "\n",
    "y_test_accuracy = accuracy_score(y_test_hot, y_test_pred)\n",
    "\n",
    "print(y_test_accuracy)"
   ]
  },
  {
   "cell_type": "code",
   "execution_count": 20,
   "id": "d77c8b6b",
   "metadata": {},
   "outputs": [
    {
     "name": "stdout",
     "output_type": "stream",
     "text": [
      "NeuralNetwork(clip_max=5, early_stopping=True, hidden_nodes=[2],\n",
      "              learning_rate=0.0001, max_iters=1000)\n"
     ]
    }
   ],
   "source": [
    "# Initialize neural network object and fit object - attempt 2\n",
    "nn_model2 = mlrose.NeuralNetwork(hidden_nodes = [2], activation = 'relu', \n",
    "                                 algorithm = 'gradient_descent', \n",
    "                                 max_iters = 1000, bias = True, is_classifier = True, \n",
    "                                 learning_rate = 0.0001, early_stopping = True, \n",
    "                                 clip_max = 5, max_attempts = 100, random_state = 3)\n",
    "\n",
    "nn_model2.fit(X_train_scaled, y_train_hot)\n",
    "fitness_curve = mlrose.NeuralNetwork(hidden_nodes = [2], activation = 'relu', \n",
    "                                 algorithm = 'gradient_descent', \n",
    "                                 max_iters = 1000, bias = True, is_classifier = True, \n",
    "                                 learning_rate = 0.0001, early_stopping = True, \n",
    "                                 clip_max = 5, max_attempts = 100, random_state = 3)\n",
    "print(fitness_curve)"
   ]
  },
  {
   "cell_type": "code",
   "execution_count": 17,
   "id": "b7b78f7e",
   "metadata": {},
   "outputs": [
    {
     "name": "stdout",
     "output_type": "stream",
     "text": [
      "0.625\n"
     ]
    }
   ],
   "source": [
    "# Predict labels for train set and assess accuracy\n",
    "y_train_pred = nn_model2.predict(X_train_scaled)\n",
    "\n",
    "y_train_accuracy = accuracy_score(y_train_hot, y_train_pred)\n",
    "\n",
    "print(y_train_accuracy)"
   ]
  },
  {
   "cell_type": "code",
   "execution_count": 18,
   "id": "e55ee451",
   "metadata": {},
   "outputs": [
    {
     "name": "stdout",
     "output_type": "stream",
     "text": [
      "0.5666666666666667\n"
     ]
    }
   ],
   "source": [
    "# Predict labels for test set and assess accuracy\n",
    "y_test_pred = nn_model2.predict(X_test_scaled)\n",
    "\n",
    "y_test_accuracy = accuracy_score(y_test_hot, y_test_pred)\n",
    "\n",
    "print(y_test_accuracy)"
   ]
  },
  {
   "cell_type": "code",
   "execution_count": 4,
   "id": "c51ece62",
   "metadata": {
    "scrolled": true
   },
   "outputs": [
    {
     "name": "stdout",
     "output_type": "stream",
     "text": [
      "(array([4, 0, 2, 0, 0]), 0.0, array([ -7.,  -0.,  -0.,  -0.,  -0.,  -0.,  -0.,  -0.,  -0.,  -0.,  -0.,\n",
      "        -0.,  -0.,  -0.,  -0.,  -0.,  -0.,  -0.,  -0.,  -0.,  -0.,  -0.,\n",
      "        -0.,  -0.,  -0.,  -0.,  -0.,  -0.,  -0.,  -0.,  -0.,  -0.,  -0.,\n",
      "        -0.,  -8.,  -0.,  -0.,  -0.,  -0.,  -0.,  -0.,  -0.,  -0.,  -0.,\n",
      "        -0.,  -0.,  -7.,  -7.,  -0.,  -0.,  -0.,  -0.,  -0.,  -0.,  -0.,\n",
      "        -0.,  -0.,  -0.,  -0.,  -0.,  -0.,  -0.,  -0.,  -0.,  -0.,  -0.,\n",
      "        -0.,  -0.,  -0.,  -0., -11.,  -0.,  -0.,  -0.,  -0.,  -0.,  -0.,\n",
      "        -0.,  -0.,  -0.,  -0.,  -0.,  -0.,  -0.,  -0.,  -0.,  -0.,  -0.,\n",
      "        -0.,  -0.,  -0.,  -0.,  -0.,  -0.,  -0.,  -0.,  -0.,  -0.,  -0.,\n",
      "        -0.,  -0.,  -0.,  -0.,  -0.]))\n"
     ]
    }
   ],
   "source": [
    "print(curve)"
   ]
  },
  {
   "cell_type": "code",
   "execution_count": 5,
   "id": "2913a31c",
   "metadata": {
    "scrolled": true
   },
   "outputs": [
    {
     "name": "stdout",
     "output_type": "stream",
     "text": [
      "104\n"
     ]
    }
   ],
   "source": [
    "aneal = [ -7.,  -0.,  -0.,  -0.,  -0.,  -0.,  -0.,  -0.,  -0.,  -0.,  -0.,\n",
    "        -0.,  -0.,  -0.,  -0.,  -0.,  -0.,  -0.,  -0.,  -0.,  -0.,  -0.,\n",
    "        -0.,  -0.,  -0.,  -0.,  -0.,  -0.,  -0.,  -0.,  -0.,  -0.,  -0.,\n",
    "        -0.,  -8.,  -0.,  -0.,  -0.,  -0.,  -0.,  -0.,  -0.,  -0.,  -0.,\n",
    "        -0.,  -0.,  -7.,  -7.,  -0.,  -0.,  -0.,  -0.,  -0.,  -0.,  -0.,\n",
    "        -0.,  -0.,  -0.,  -0.,  -0.,  -0.,  -0.,  -0.,  -0.,  -0.,  -0.,\n",
    "        -0.,  -0.,  -0.,  -0., -11.,  -0.,  -0.,  -0.,  -0.,  -0.,  -0.,\n",
    "        -0.,  -0.,  -0.,  -0.,  -0.,  -0.,  -0.,  -0.,  -0.,  -0.,  -0.,\n",
    "        -0.,  -0.,  -0.,  -0.,  -0.,  -0.,  -0.,  -0.,  -0.,  -0.,  -0.,\n",
    "        -0.,  -0.,  -0.,  -0.,  -0.]\n",
    "\n",
    "length_aneal = len(aneal)\n",
    "print(length_aneal)"
   ]
  },
  {
   "cell_type": "code",
   "execution_count": 6,
   "id": "c9536a84",
   "metadata": {},
   "outputs": [],
   "source": [
    "size = np.arange(1,length_aneal+1,1)\n"
   ]
  },
  {
   "cell_type": "code",
   "execution_count": 7,
   "id": "e3266725",
   "metadata": {},
   "outputs": [
    {
     "name": "stdout",
     "output_type": "stream",
     "text": [
      "[  1   2   3   4   5   6   7   8   9  10  11  12  13  14  15  16  17  18\n",
      "  19  20  21  22  23  24  25  26  27  28  29  30  31  32  33  34  35  36\n",
      "  37  38  39  40  41  42  43  44  45  46  47  48  49  50  51  52  53  54\n",
      "  55  56  57  58  59  60  61  62  63  64  65  66  67  68  69  70  71  72\n",
      "  73  74  75  76  77  78  79  80  81  82  83  84  85  86  87  88  89  90\n",
      "  91  92  93  94  95  96  97  98  99 100 101 102 103 104]\n"
     ]
    }
   ],
   "source": [
    "print(size)"
   ]
  },
  {
   "cell_type": "code",
   "execution_count": 8,
   "id": "e25ef841",
   "metadata": {},
   "outputs": [],
   "source": [
    "\n",
    "add1 = np.ones(length_aneal)\n",
    "add100 = add1*100\n",
    "#addoptimal = add1*17.34261754766733\n",
    "#aneal1 = np.array(aneal) + np.array(addoptimal)+ np.array(add100)\n",
    "aneal1 = np.array(aneal)+ np.array(add100)\n",
    "#print(anealaccuracy)\n"
   ]
  },
  {
   "cell_type": "code",
   "execution_count": 9,
   "id": "f043f75e",
   "metadata": {
    "scrolled": true
   },
   "outputs": [
    {
     "data": {
      "image/png": "[encoded data removed]",
      "text/plain": [
       "<Figure size 432x288 with 1 Axes>"
      ]
     },
     "metadata": {
      "needs_background": "light"
     },
     "output_type": "display_data"
    }
   ],
   "source": [
    "plt.plot(size,aneal1,'b-o',label='Accuracy over batch size for 10 iterations');\n",
    "plt.xlabel('Batch Size')\n",
    "plt.ylabel('Accuracy')\n",
    "plt.legend()\n",
    "plt.show()"
   ]
  },
  {
   "cell_type": "code",
   "execution_count": null,
   "id": "8e88b95b",
   "metadata": {},
   "outputs": [],
   "source": []
  }
 ],
 "metadata": {
  "kernelspec": {
   "display_name": "Python 3 (ipykernel)",
   "language": "python",
   "name": "python3"
  },
  "language_info": {
   "codemirror_mode": {
    "name": "ipython",
    "version": 3
   },
   "file_extension": ".py",
   "mimetype": "text/x-python",
   "name": "python",
   "nbconvert_exporter": "python",
   "pygments_lexer": "ipython3",
   "version": "3.9.7"
  }
 },
 "nbformat": 4,
 "nbformat_minor": 5
}
