{
 "cells": [
  {
   "cell_type": "code",
   "execution_count": 1,
   "id": "af24910f",
   "metadata": {},
   "outputs": [],
   "source": [
    "import six\n",
    "import sys\n",
    "sys.modules['sklearn.externals.six'] = six\n",
    "import mlrose\n",
    "\n",
    "import numpy as np\n",
    "import matplotlib.pyplot as plt\n",
    "\n",
    "from sklearn.datasets import load_iris\n",
    "from sklearn.model_selection import train_test_split\n",
    "from sklearn.preprocessing import MinMaxScaler, OneHotEncoder\n",
    "from sklearn.metrics import accuracy_score"
   ]
  },
  {
   "cell_type": "code",
   "execution_count": 2,
   "id": "2ddf99f3",
   "metadata": {},
   "outputs": [],
   "source": [
    " #Create list of city coordinates\n",
    "coords_list = [(1, 1), (4, 2), (5, 2), (6, 4), (4, 4), (3, 6), (1, 5), (2, 3)]\n",
    "\n",
    "# Initialize fitness function object using coords_list\n",
    "fitness_coords = mlrose.TravellingSales(coords = coords_list)"
   ]
  },
  {
   "cell_type": "code",
   "execution_count": 3,
   "id": "ea1b5764",
   "metadata": {},
   "outputs": [],
   "source": [
    "# Define optimization problem object\n",
    "problem_fit = mlrose.TSPOpt(length = 8, fitness_fn = fitness_coords, maximize = False)"
   ]
  },
  {
   "cell_type": "code",
   "execution_count": 4,
   "id": "f8868335",
   "metadata": {},
   "outputs": [],
   "source": [
    "schedule = mlrose.ExpDecay()\n",
    "curve = mlrose.simulated_annealing(problem_fit, schedule = schedule, max_attempts = 100, \n",
    "                                                      max_iters = 1000, curve=True, \n",
    "                                                      random_state = 2)"
   ]
  },
  {
   "cell_type": "code",
   "execution_count": 5,
   "id": "4bc30665",
   "metadata": {},
   "outputs": [],
   "source": [
    " curve = mlrose.simulated_annealing(problem_fit, schedule = schedule, max_attempts = 100, \n",
    "                                                      max_iters = 1000, curve=True, \n",
    "                                                      random_state = 2)"
   ]
  },
  {
   "cell_type": "code",
   "execution_count": 7,
   "id": "c51ece62",
   "metadata": {},
   "outputs": [
    {
     "name": "stdout",
     "output_type": "stream",
     "text": [
      "(array([1, 2, 3, 4, 5, 6, 7, 0]), 17.342617547667327, array([-30.39189744, -28.23117139, -24.56452021, -24.56452021,\n",
      "       -25.3201415 , -25.3201415 , -25.97111117, -25.85457826,\n",
      "       -25.85457826, -25.85457826, -24.5048598 , -24.5048598 ,\n",
      "       -24.5048598 , -24.5048598 , -25.11859794, -25.94702506,\n",
      "       -25.94702506, -25.61193757, -25.61193757, -26.07496472,\n",
      "       -26.07496472, -25.40224255, -25.6057112 , -25.40224255,\n",
      "       -22.88095122, -22.88095122, -22.62901531, -22.62901531,\n",
      "       -22.62901531, -22.62901531, -22.88095122, -24.32671421,\n",
      "       -24.32671421, -22.88095122, -22.88095122, -22.88095122,\n",
      "       -22.88095122, -21.87437851, -21.87437851, -21.87437851,\n",
      "       -21.87437851, -21.87437851, -21.87437851, -21.87437851,\n",
      "       -22.48617614, -21.87437851, -22.44163706, -22.44163706,\n",
      "       -22.44163706, -21.87437851, -21.87437851, -21.87437851,\n",
      "       -21.87437851, -21.87437851, -21.87437851, -22.71210085,\n",
      "       -22.71210085, -23.2296552 , -22.44163706, -22.44163706,\n",
      "       -22.44163706, -22.44163706, -22.44163706, -22.44163706,\n",
      "       -22.44163706, -22.44163706, -22.44163706, -21.81112036,\n",
      "       -18.71210085, -18.71210085, -18.71210085, -18.71210085,\n",
      "       -18.71210085, -18.71210085, -18.71210085, -18.71210085,\n",
      "       -18.71210085, -21.13177877, -21.13177877, -21.13177877,\n",
      "       -21.85653875, -21.85653875, -21.85653875, -21.85653875,\n",
      "       -21.13177877, -21.13177877, -21.13177877, -21.13177877,\n",
      "       -21.13177877, -21.13177877, -21.13177877, -21.13177877,\n",
      "       -21.13177877, -21.13177877, -21.13177877, -21.13177877,\n",
      "       -21.13177877, -21.13177877, -21.13177877, -21.13177877,\n",
      "       -21.13177877, -21.13177877, -21.13177877, -21.13177877,\n",
      "       -21.13177877, -21.13177877, -21.13177877, -21.13177877,\n",
      "       -21.13177877, -21.13177877, -21.13177877, -21.13177877,\n",
      "       -21.13177877, -21.13177877, -21.13177877, -21.13177877,\n",
      "       -21.13177877, -21.13177877, -21.13177877, -21.13177877,\n",
      "       -18.71210085, -18.71210085, -18.71210085, -18.71210085,\n",
      "       -18.71210085, -18.71210085, -18.71210085, -18.71210085,\n",
      "       -18.71210085, -18.71210085, -18.71210085, -18.71210085,\n",
      "       -18.71210085, -18.71210085, -19.43686083, -19.43686083,\n",
      "       -19.43686083, -19.43686083, -19.43686083, -19.43686083,\n",
      "       -18.89580466, -18.89580466, -18.89580466, -18.89580466,\n",
      "       -18.89580466, -18.89580466, -18.89580466, -18.89580466,\n",
      "       -18.89580466, -18.89580466, -18.89580466, -18.89580466,\n",
      "       -18.89580466, -18.89580466, -18.89580466, -17.34261755,\n",
      "       -17.34261755, -17.34261755, -17.34261755, -17.34261755,\n",
      "       -17.34261755, -17.34261755, -17.34261755, -17.34261755,\n",
      "       -17.34261755, -17.34261755, -17.34261755, -17.34261755,\n",
      "       -17.34261755, -17.34261755, -17.34261755, -17.34261755,\n",
      "       -17.34261755, -17.34261755, -17.34261755, -17.34261755,\n",
      "       -17.34261755, -17.34261755, -17.34261755, -17.34261755,\n",
      "       -17.34261755, -17.34261755, -17.34261755, -17.34261755,\n",
      "       -17.34261755, -17.34261755, -17.34261755, -17.34261755,\n",
      "       -17.34261755, -17.34261755, -17.34261755, -17.34261755,\n",
      "       -17.34261755, -17.34261755, -17.34261755, -17.34261755,\n",
      "       -17.34261755, -17.34261755, -17.34261755, -17.34261755,\n",
      "       -17.34261755, -17.34261755, -17.34261755, -17.34261755,\n",
      "       -17.34261755, -17.34261755, -17.34261755, -17.34261755,\n",
      "       -17.34261755, -17.34261755, -17.34261755, -17.34261755,\n",
      "       -17.34261755, -17.34261755, -17.34261755, -17.34261755,\n",
      "       -17.34261755, -17.34261755, -17.34261755, -17.34261755,\n",
      "       -17.34261755, -17.34261755, -17.34261755, -17.34261755,\n",
      "       -17.34261755, -17.34261755, -17.34261755, -17.34261755,\n",
      "       -17.34261755, -17.34261755, -17.34261755, -17.34261755,\n",
      "       -17.34261755, -17.34261755, -17.34261755, -17.34261755,\n",
      "       -17.34261755, -17.34261755, -17.34261755, -17.34261755,\n",
      "       -17.34261755, -17.34261755, -17.34261755, -17.34261755,\n",
      "       -17.34261755, -17.34261755, -17.34261755, -17.34261755,\n",
      "       -17.34261755, -17.34261755, -17.34261755, -17.34261755,\n",
      "       -17.34261755, -17.34261755, -17.34261755, -17.34261755]))\n"
     ]
    }
   ],
   "source": [
    "print(curve)"
   ]
  },
  {
   "cell_type": "code",
   "execution_count": 8,
   "id": "2913a31c",
   "metadata": {
    "scrolled": true
   },
   "outputs": [
    {
     "name": "stdout",
     "output_type": "stream",
     "text": [
      "256\n"
     ]
    }
   ],
   "source": [
    "aneal = [-30.39189744, -28.23117139, -24.56452021, -24.56452021,\n",
    "       -25.3201415 , -25.3201415 , -25.97111117, -25.85457826,\n",
    "       -25.85457826, -25.85457826, -24.5048598 , -24.5048598 ,\n",
    "       -24.5048598 , -24.5048598 , -25.11859794, -25.94702506,\n",
    "       -25.94702506, -25.61193757, -25.61193757, -26.07496472,\n",
    "       -26.07496472, -25.40224255, -25.6057112 , -25.40224255,\n",
    "       -22.88095122, -22.88095122, -22.62901531, -22.62901531,\n",
    "       -22.62901531, -22.62901531, -22.88095122, -24.32671421,\n",
    "       -24.32671421, -22.88095122, -22.88095122, -22.88095122,\n",
    "       -22.88095122, -21.87437851, -21.87437851, -21.87437851,\n",
    "       -21.87437851, -21.87437851, -21.87437851, -21.87437851,\n",
    "       -22.48617614, -21.87437851, -22.44163706, -22.44163706,\n",
    "       -22.44163706, -21.87437851, -21.87437851, -21.87437851,\n",
    "       -21.87437851, -21.87437851, -21.87437851, -22.71210085,\n",
    "       -22.71210085, -23.2296552 , -22.44163706, -22.44163706,\n",
    "       -22.44163706, -22.44163706, -22.44163706, -22.44163706,\n",
    "       -22.44163706, -22.44163706, -22.44163706, -21.81112036,\n",
    "       -18.71210085, -18.71210085, -18.71210085, -18.71210085,\n",
    "       -18.71210085, -18.71210085, -18.71210085, -18.71210085,\n",
    "       -18.71210085, -21.13177877, -21.13177877, -21.13177877,\n",
    "       -21.85653875, -21.85653875, -21.85653875, -21.85653875,\n",
    "       -21.13177877, -21.13177877, -21.13177877, -21.13177877,\n",
    "       -21.13177877, -21.13177877, -21.13177877, -21.13177877,\n",
    "       -21.13177877, -21.13177877, -21.13177877, -21.13177877,\n",
    "       -21.13177877, -21.13177877, -21.13177877, -21.13177877,\n",
    "       -21.13177877, -21.13177877, -21.13177877, -21.13177877,\n",
    "       -21.13177877, -21.13177877, -21.13177877, -21.13177877,\n",
    "       -21.13177877, -21.13177877, -21.13177877, -21.13177877,\n",
    "       -21.13177877, -21.13177877, -21.13177877, -21.13177877,\n",
    "       -21.13177877, -21.13177877, -21.13177877, -21.13177877,\n",
    "       -18.71210085, -18.71210085, -18.71210085, -18.71210085,\n",
    "       -18.71210085, -18.71210085, -18.71210085, -18.71210085,\n",
    "       -18.71210085, -18.71210085, -18.71210085, -18.71210085,\n",
    "       -18.71210085, -18.71210085, -19.43686083, -19.43686083,\n",
    "       -19.43686083, -19.43686083, -19.43686083, -19.43686083,\n",
    "       -18.89580466, -18.89580466, -18.89580466, -18.89580466,\n",
    "       -18.89580466, -18.89580466, -18.89580466, -18.89580466,\n",
    "       -18.89580466, -18.89580466, -18.89580466, -18.89580466,\n",
    "       -18.89580466, -18.89580466, -18.89580466, -17.34261755,\n",
    "       -17.34261755, -17.34261755, -17.34261755, -17.34261755,\n",
    "       -17.34261755, -17.34261755, -17.34261755, -17.34261755,\n",
    "       -17.34261755, -17.34261755, -17.34261755, -17.34261755,\n",
    "       -17.34261755, -17.34261755, -17.34261755, -17.34261755,\n",
    "       -17.34261755, -17.34261755, -17.34261755, -17.34261755,\n",
    "       -17.34261755, -17.34261755, -17.34261755, -17.34261755,\n",
    "       -17.34261755, -17.34261755, -17.34261755, -17.34261755,\n",
    "       -17.34261755, -17.34261755, -17.34261755, -17.34261755,\n",
    "       -17.34261755, -17.34261755, -17.34261755, -17.34261755,\n",
    "       -17.34261755, -17.34261755, -17.34261755, -17.34261755,\n",
    "       -17.34261755, -17.34261755, -17.34261755, -17.34261755,\n",
    "       -17.34261755, -17.34261755, -17.34261755, -17.34261755,\n",
    "       -17.34261755, -17.34261755, -17.34261755, -17.34261755,\n",
    "       -17.34261755, -17.34261755, -17.34261755, -17.34261755,\n",
    "       -17.34261755, -17.34261755, -17.34261755, -17.34261755,\n",
    "       -17.34261755, -17.34261755, -17.34261755, -17.34261755,\n",
    "       -17.34261755, -17.34261755, -17.34261755, -17.34261755,\n",
    "       -17.34261755, -17.34261755, -17.34261755, -17.34261755,\n",
    "       -17.34261755, -17.34261755, -17.34261755, -17.34261755,\n",
    "       -17.34261755, -17.34261755, -17.34261755, -17.34261755,\n",
    "       -17.34261755, -17.34261755, -17.34261755, -17.34261755,\n",
    "       -17.34261755, -17.34261755, -17.34261755, -17.34261755,\n",
    "       -17.34261755, -17.34261755, -17.34261755, -17.34261755,\n",
    "       -17.34261755, -17.34261755, -17.34261755, -17.34261755,\n",
    "       -17.34261755, -17.34261755, -17.34261755, -17.34261755]\n",
    "\n",
    "length_aneal = len(aneal)\n",
    "print(length_aneal)"
   ]
  },
  {
   "cell_type": "code",
   "execution_count": 9,
   "id": "c9536a84",
   "metadata": {},
   "outputs": [],
   "source": [
    "size = np.arange(1,length_aneal+1,1)\n"
   ]
  },
  {
   "cell_type": "code",
   "execution_count": 10,
   "id": "e3266725",
   "metadata": {},
   "outputs": [
    {
     "name": "stdout",
     "output_type": "stream",
     "text": [
      "[  1   2   3   4   5   6   7   8   9  10  11  12  13  14  15  16  17  18\n",
      "  19  20  21  22  23  24  25  26  27  28  29  30  31  32  33  34  35  36\n",
      "  37  38  39  40  41  42  43  44  45  46  47  48  49  50  51  52  53  54\n",
      "  55  56  57  58  59  60  61  62  63  64  65  66  67  68  69  70  71  72\n",
      "  73  74  75  76  77  78  79  80  81  82  83  84  85  86  87  88  89  90\n",
      "  91  92  93  94  95  96  97  98  99 100 101 102 103 104 105 106 107 108\n",
      " 109 110 111 112 113 114 115 116 117 118 119 120 121 122 123 124 125 126\n",
      " 127 128 129 130 131 132 133 134 135 136 137 138 139 140 141 142 143 144\n",
      " 145 146 147 148 149 150 151 152 153 154 155 156 157 158 159 160 161 162\n",
      " 163 164 165 166 167 168 169 170 171 172 173 174 175 176 177 178 179 180\n",
      " 181 182 183 184 185 186 187 188 189 190 191 192 193 194 195 196 197 198\n",
      " 199 200 201 202 203 204 205 206 207 208 209 210 211 212 213 214 215 216\n",
      " 217 218 219 220 221 222 223 224 225 226 227 228 229 230 231 232 233 234\n",
      " 235 236 237 238 239 240 241 242 243 244 245 246 247 248 249 250 251 252\n",
      " 253 254 255 256]\n"
     ]
    }
   ],
   "source": [
    "print(size)"
   ]
  },
  {
   "cell_type": "code",
   "execution_count": 11,
   "id": "e25ef841",
   "metadata": {},
   "outputs": [],
   "source": [
    "\n",
    "add1 = np.ones(length_aneal)\n",
    "add100 = add1*100\n",
    "addoptimal = add1*17.342617547667327\n",
    "aneal1 = np.array(aneal) + np.array(addoptimal)+ np.array(add100)\n",
    "#print(anealaccuracy)\n"
   ]
  },
  {
   "cell_type": "code",
   "execution_count": 13,
   "id": "f043f75e",
   "metadata": {
    "scrolled": true
   },
   "outputs": [
    {
     "data": {
      "image/png": "[encoded data removed]",
      "text/plain": [
       "<Figure size 432x288 with 1 Axes>"
      ]
     },
     "metadata": {
      "needs_background": "light"
     },
     "output_type": "display_data"
    }
   ],
   "source": [
    "plt.plot(size,aneal1,'b-o',label='Accuracy over batch size for 256 iterations');\n",
    "plt.xlabel('Batch Size')\n",
    "plt.ylabel('Accuracy')\n",
    "plt.legend()\n",
    "plt.show()"
   ]
  },
  {
   "cell_type": "code",
   "execution_count": null,
   "id": "8e88b95b",
   "metadata": {},
   "outputs": [],
   "source": []
  }
 ],
 "metadata": {
  "kernelspec": {
   "display_name": "Python 3 (ipykernel)",
   "language": "python",
   "name": "python3"
  },
  "language_info": {
   "codemirror_mode": {
    "name": "ipython",
    "version": 3
   },
   "file_extension": ".py",
   "mimetype": "text/x-python",
   "name": "python",
   "nbconvert_exporter": "python",
   "pygments_lexer": "ipython3",
   "version": "3.9.7"
  }
 },
 "nbformat": 4,
 "nbformat_minor": 5
}
