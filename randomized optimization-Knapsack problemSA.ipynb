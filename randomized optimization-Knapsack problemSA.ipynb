{
 "cells": [
  {
   "cell_type": "code",
   "execution_count": 1,
   "id": "af24910f",
   "metadata": {},
   "outputs": [],
   "source": [
    "import six\n",
    "import sys\n",
    "sys.modules['sklearn.externals.six'] = six\n",
    "import mlrose\n",
    "\n",
    "import numpy as np\n",
    "import matplotlib.pyplot as plt\n",
    "\n",
    "from sklearn.datasets import load_iris\n",
    "from sklearn.model_selection import train_test_split\n",
    "from sklearn.preprocessing import MinMaxScaler, OneHotEncoder\n",
    "from sklearn.metrics import accuracy_score"
   ]
  },
  {
   "cell_type": "code",
   "execution_count": 2,
   "id": "7532d915",
   "metadata": {},
   "outputs": [],
   "source": [
    "#data1=np.random.randint(1,20,40)\n",
    "#data2=np.random.randint(1,20,40)\n",
    "#print(data1)\n",
    "#print(data2)"
   ]
  },
  {
   "cell_type": "code",
   "execution_count": 3,
   "id": "2ddf99f3",
   "metadata": {
    "scrolled": true
   },
   "outputs": [
    {
     "data": {
      "text/plain": [
       "11"
      ]
     },
     "execution_count": 3,
     "metadata": {},
     "output_type": "execute_result"
    }
   ],
   "source": [
    " weights = [10, 5, 2, 8, 15]\n",
    ">>> values = [1, 2, 3, 4, 5]\n",
    ">>> max_weight_pct = 0.6\n",
    ">>> fitness = mlrose.Knapsack(weights, values, max_weight_pct)\n",
    ">>> state = np.array([1, 0, 2, 1, 0])\n",
    ">>> fitness.evaluate(state)"
   ]
  },
  {
   "cell_type": "code",
   "execution_count": 4,
   "id": "ea1b5764",
   "metadata": {},
   "outputs": [],
   "source": [
    "# Define optimization problem object\n",
    "schedule = mlrose.ExpDecay()\n",
    "problem = mlrose.DiscreteOpt(length = 5, fitness_fn = fitness, maximize=False, max_val=5)\n",
    "\n",
    "curve = mlrose.simulated_annealing(problem, schedule = schedule, max_attempts = 10, \n",
    "                                                      max_iters = 1000, init_state = state,\n",
    "                                                      random_state = 1)"
   ]
  },
  {
   "cell_type": "code",
   "execution_count": 17,
   "id": "c51ece62",
   "metadata": {
    "scrolled": true
   },
   "outputs": [
    {
     "name": "stdout",
     "output_type": "stream",
     "text": [
      "(array([3, 4, 0, 1, 3]), 0.0, array([-0., -0., -0., -0., -0., -0., -0., -0., -0., -0., -0., -0., -0.,\n",
      "       -0., -0., -0., -0., -0., -0., -0., -0., -0., -0., -0., -0., -0.,\n",
      "       -0., -0., -0., -0., -0., -0., -0., -0., -0., -0., -0., -0., -0.,\n",
      "       -0., -0., -0., -0., -0., -0., -0., -0., -0., -0., -0., -0., -0.,\n",
      "       -0., -0., -0., -0., -0., -0., -0., -0., -0., -0., -0., -0., -0.,\n",
      "       -0., -0., -0., -0., -0., -0., -0., -0., -0., -0., -0., -0., -0.,\n",
      "       -0., -0., -0., -0., -0., -0., -0., -0., -0., -0., -0., -0., -0.,\n",
      "       -0., -0., -0., -0., -0., -0., -0., -0., -0.]))\n"
     ]
    }
   ],
   "source": [
    "print(curve)"
   ]
  },
  {
   "cell_type": "code",
   "execution_count": 5,
   "id": "2913a31c",
   "metadata": {
    "scrolled": true
   },
   "outputs": [
    {
     "name": "stdout",
     "output_type": "stream",
     "text": [
      "100\n"
     ]
    }
   ],
   "source": [
    "aneal = [-0., -0., -0., -0., -0., -0., -0., -0., -0., -0., -0., -0., -0.,\n",
    "       -0., -0., -0., -0., -0., -0., -0., -0., -0., -0., -0., -0., -0.,\n",
    "       -0., -0., -0., -0., -0., -0., -0., -0., -0., -0., -0., -0., -0.,\n",
    "       -0., -0., -0., -0., -0., -0., -0., -0., -0., -0., -0., -0., -0.,\n",
    "       -0., -0., -0., -0., -0., -0., -0., -0., -0., -0., -0., -0., -0.,\n",
    "       -0., -0., -0., -0., -0., -0., -0., -0., -0., -0., -0., -0., -0.,\n",
    "       -0., -0., -0., -0., -0., -0., -0., -0., -0., -0., -0., -0., -0.,\n",
    "       -0., -0., -0., -0., -0., -0., -0., -0., -0]\n",
    "\n",
    "length_aneal = len(aneal)\n",
    "print(length_aneal)"
   ]
  },
  {
   "cell_type": "code",
   "execution_count": 6,
   "id": "c9536a84",
   "metadata": {},
   "outputs": [],
   "source": [
    "size = np.arange(1,length_aneal+1,1)\n"
   ]
  },
  {
   "cell_type": "code",
   "execution_count": 7,
   "id": "e3266725",
   "metadata": {},
   "outputs": [
    {
     "name": "stdout",
     "output_type": "stream",
     "text": [
      "[  1   2   3   4   5   6   7   8   9  10  11  12  13  14  15  16  17  18\n",
      "  19  20  21  22  23  24  25  26  27  28  29  30  31  32  33  34  35  36\n",
      "  37  38  39  40  41  42  43  44  45  46  47  48  49  50  51  52  53  54\n",
      "  55  56  57  58  59  60  61  62  63  64  65  66  67  68  69  70  71  72\n",
      "  73  74  75  76  77  78  79  80  81  82  83  84  85  86  87  88  89  90\n",
      "  91  92  93  94  95  96  97  98  99 100]\n"
     ]
    }
   ],
   "source": [
    "print(size)"
   ]
  },
  {
   "cell_type": "code",
   "execution_count": 8,
   "id": "e25ef841",
   "metadata": {},
   "outputs": [],
   "source": [
    "\n",
    "add1 = np.ones(length_aneal)\n",
    "add100 = add1*100\n",
    "#addoptimal = add1*17.34261754766733\n",
    "#aneal1 = np.array(aneal) + np.array(addoptimal)+ np.array(add100)\n",
    "aneal1 = np.array(aneal)+ np.array(add100)\n",
    "#print(anealaccuracy)\n"
   ]
  },
  {
   "cell_type": "code",
   "execution_count": 9,
   "id": "f043f75e",
   "metadata": {
    "scrolled": true
   },
   "outputs": [
    {
     "data": {
      "image/png": "[encoded data removed]",
      "text/plain": [
       "<Figure size 432x288 with 1 Axes>"
      ]
     },
     "metadata": {
      "needs_background": "light"
     },
     "output_type": "display_data"
    }
   ],
   "source": [
    "plt.plot(size,aneal1,'b-o',label='Accuracy over batch size for 10 iterations');\n",
    "plt.xlabel('Batch Size')\n",
    "plt.ylabel('Accuracy')\n",
    "plt.legend()\n",
    "plt.show()"
   ]
  },
  {
   "cell_type": "code",
   "execution_count": null,
   "id": "8e88b95b",
   "metadata": {},
   "outputs": [],
   "source": []
  }
 ],
 "metadata": {
  "kernelspec": {
   "display_name": "Python 3 (ipykernel)",
   "language": "python",
   "name": "python3"
  },
  "language_info": {
   "codemirror_mode": {
    "name": "ipython",
    "version": 3
   },
   "file_extension": ".py",
   "mimetype": "text/x-python",
   "name": "python",
   "nbconvert_exporter": "python",
   "pygments_lexer": "ipython3",
   "version": "3.9.7"
  }
 },
 "nbformat": 4,
 "nbformat_minor": 5
}
